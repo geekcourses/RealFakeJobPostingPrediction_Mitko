{
 "cells": [
  {
   "cell_type": "code",
   "execution_count": 131,
   "metadata": {},
   "outputs": [],
   "source": [
    "import re\n",
    "import numpy as np\n",
    "import pandas as pd\n",
    "\n",
    "import matplotlib.pyplot as plt\n",
    "import seaborn as sns\n",
    "\n",
    "from sklearn.model_selection import train_test_split\n",
    "from sklearn.model_selection import GridSearchCV\n",
    "\n",
    "from sklearn.preprocessing import LabelEncoder, OneHotEncoder\n",
    "from sklearn.feature_extraction.text import TfidfVectorizer\n",
    "\n",
    "from imblearn.under_sampling import RandomUnderSampler\n",
    "from imblearn.over_sampling import SMOTE\n",
    "\n",
    "from joblib import Memory\n",
    "from scipy.sparse import hstack\n",
    "from scipy.sparse import save_npz,load_npz\n",
    "\n"
   ]
  },
  {
   "cell_type": "code",
   "execution_count": 132,
   "metadata": {},
   "outputs": [],
   "source": [
    "# Set up memory caching\n",
    "memory = Memory('./cachedir', verbose=0)"
   ]
  },
  {
   "cell_type": "markdown",
   "metadata": {},
   "source": [
    "## Given:\n",
    "### [Real or Fake] : Fake Job Description Prediction\n",
    "### This dataset contains 18K job descriptions out of which about 800 are fake. The data consists of both textual information and meta-information about the jobs. The dataset can be used to create classification models which can learn the job descriptions which are fraudulent."
   ]
  },
  {
   "cell_type": "markdown",
   "metadata": {},
   "source": [
    "## Goal:\n",
    "\n",
    "Process the dataset to prepare features for a classification model that predicts whether job descriptions are fraudulent or real."
   ]
  },
  {
   "cell_type": "markdown",
   "metadata": {},
   "source": [
    "## Load and explore the data:"
   ]
  },
  {
   "cell_type": "code",
   "execution_count": 133,
   "metadata": {},
   "outputs": [],
   "source": [
    "@memory.cache\n",
    "def load_data():\n",
    "    return pd.read_csv(\"../data/raw/fake_job_postings.csv\", index_col=0)\n",
    "\n",
    "# Load the DataFrame (will use cache if available)\n",
    "df = load_data()"
   ]
  },
  {
   "cell_type": "code",
   "execution_count": 134,
   "metadata": {},
   "outputs": [
    {
     "data": {
      "text/html": [
       "<div>\n",
       "<style scoped>\n",
       "    .dataframe tbody tr th:only-of-type {\n",
       "        vertical-align: middle;\n",
       "    }\n",
       "\n",
       "    .dataframe tbody tr th {\n",
       "        vertical-align: top;\n",
       "    }\n",
       "\n",
       "    .dataframe thead th {\n",
       "        text-align: right;\n",
       "    }\n",
       "</style>\n",
       "<table border=\"1\" class=\"dataframe\">\n",
       "  <thead>\n",
       "    <tr style=\"text-align: right;\">\n",
       "      <th></th>\n",
       "      <th>title</th>\n",
       "      <th>location</th>\n",
       "      <th>department</th>\n",
       "      <th>salary_range</th>\n",
       "      <th>company_profile</th>\n",
       "      <th>description</th>\n",
       "      <th>requirements</th>\n",
       "      <th>benefits</th>\n",
       "      <th>telecommuting</th>\n",
       "      <th>has_company_logo</th>\n",
       "      <th>has_questions</th>\n",
       "      <th>employment_type</th>\n",
       "      <th>required_experience</th>\n",
       "      <th>required_education</th>\n",
       "      <th>industry</th>\n",
       "      <th>function</th>\n",
       "      <th>fraudulent</th>\n",
       "    </tr>\n",
       "    <tr>\n",
       "      <th>job_id</th>\n",
       "      <th></th>\n",
       "      <th></th>\n",
       "      <th></th>\n",
       "      <th></th>\n",
       "      <th></th>\n",
       "      <th></th>\n",
       "      <th></th>\n",
       "      <th></th>\n",
       "      <th></th>\n",
       "      <th></th>\n",
       "      <th></th>\n",
       "      <th></th>\n",
       "      <th></th>\n",
       "      <th></th>\n",
       "      <th></th>\n",
       "      <th></th>\n",
       "      <th></th>\n",
       "    </tr>\n",
       "  </thead>\n",
       "  <tbody>\n",
       "    <tr>\n",
       "      <th>1</th>\n",
       "      <td>Marketing Intern</td>\n",
       "      <td>US, NY, New York</td>\n",
       "      <td>Marketing</td>\n",
       "      <td>NaN</td>\n",
       "      <td>We're Food52, and we've created a groundbreaki...</td>\n",
       "      <td>Food52, a fast-growing, James Beard Award-winn...</td>\n",
       "      <td>Experience with content management systems a m...</td>\n",
       "      <td>NaN</td>\n",
       "      <td>0</td>\n",
       "      <td>1</td>\n",
       "      <td>0</td>\n",
       "      <td>Other</td>\n",
       "      <td>Internship</td>\n",
       "      <td>NaN</td>\n",
       "      <td>NaN</td>\n",
       "      <td>Marketing</td>\n",
       "      <td>0</td>\n",
       "    </tr>\n",
       "    <tr>\n",
       "      <th>2</th>\n",
       "      <td>Customer Service - Cloud Video Production</td>\n",
       "      <td>NZ, , Auckland</td>\n",
       "      <td>Success</td>\n",
       "      <td>NaN</td>\n",
       "      <td>90 Seconds, the worlds Cloud Video Production ...</td>\n",
       "      <td>Organised - Focused - Vibrant - Awesome!Do you...</td>\n",
       "      <td>What we expect from you:Your key responsibilit...</td>\n",
       "      <td>What you will get from usThrough being part of...</td>\n",
       "      <td>0</td>\n",
       "      <td>1</td>\n",
       "      <td>0</td>\n",
       "      <td>Full-time</td>\n",
       "      <td>Not Applicable</td>\n",
       "      <td>NaN</td>\n",
       "      <td>Marketing and Advertising</td>\n",
       "      <td>Customer Service</td>\n",
       "      <td>0</td>\n",
       "    </tr>\n",
       "  </tbody>\n",
       "</table>\n",
       "</div>"
      ],
      "text/plain": [
       "                                            title          location  \\\n",
       "job_id                                                                \n",
       "1                                Marketing Intern  US, NY, New York   \n",
       "2       Customer Service - Cloud Video Production    NZ, , Auckland   \n",
       "\n",
       "       department salary_range  \\\n",
       "job_id                           \n",
       "1       Marketing          NaN   \n",
       "2         Success          NaN   \n",
       "\n",
       "                                          company_profile  \\\n",
       "job_id                                                      \n",
       "1       We're Food52, and we've created a groundbreaki...   \n",
       "2       90 Seconds, the worlds Cloud Video Production ...   \n",
       "\n",
       "                                              description  \\\n",
       "job_id                                                      \n",
       "1       Food52, a fast-growing, James Beard Award-winn...   \n",
       "2       Organised - Focused - Vibrant - Awesome!Do you...   \n",
       "\n",
       "                                             requirements  \\\n",
       "job_id                                                      \n",
       "1       Experience with content management systems a m...   \n",
       "2       What we expect from you:Your key responsibilit...   \n",
       "\n",
       "                                                 benefits  telecommuting  \\\n",
       "job_id                                                                     \n",
       "1                                                     NaN              0   \n",
       "2       What you will get from usThrough being part of...              0   \n",
       "\n",
       "        has_company_logo  has_questions employment_type required_experience  \\\n",
       "job_id                                                                        \n",
       "1                      1              0           Other          Internship   \n",
       "2                      1              0       Full-time      Not Applicable   \n",
       "\n",
       "       required_education                   industry          function  \\\n",
       "job_id                                                                   \n",
       "1                     NaN                        NaN         Marketing   \n",
       "2                     NaN  Marketing and Advertising  Customer Service   \n",
       "\n",
       "        fraudulent  \n",
       "job_id              \n",
       "1                0  \n",
       "2                0  "
      ]
     },
     "execution_count": 134,
     "metadata": {},
     "output_type": "execute_result"
    }
   ],
   "source": [
    "# Display the first two rows\n",
    "df.head(2)"
   ]
  },
  {
   "cell_type": "code",
   "execution_count": 135,
   "metadata": {},
   "outputs": [
    {
     "data": {
      "text/html": [
       "<div>\n",
       "<style scoped>\n",
       "    .dataframe tbody tr th:only-of-type {\n",
       "        vertical-align: middle;\n",
       "    }\n",
       "\n",
       "    .dataframe tbody tr th {\n",
       "        vertical-align: top;\n",
       "    }\n",
       "\n",
       "    .dataframe thead th {\n",
       "        text-align: right;\n",
       "    }\n",
       "</style>\n",
       "<table border=\"1\" class=\"dataframe\">\n",
       "  <thead>\n",
       "    <tr style=\"text-align: right;\">\n",
       "      <th></th>\n",
       "      <th>title</th>\n",
       "      <th>location</th>\n",
       "      <th>department</th>\n",
       "      <th>salary_range</th>\n",
       "      <th>company_profile</th>\n",
       "      <th>description</th>\n",
       "      <th>requirements</th>\n",
       "      <th>benefits</th>\n",
       "      <th>telecommuting</th>\n",
       "      <th>has_company_logo</th>\n",
       "      <th>has_questions</th>\n",
       "      <th>employment_type</th>\n",
       "      <th>required_experience</th>\n",
       "      <th>required_education</th>\n",
       "      <th>industry</th>\n",
       "      <th>function</th>\n",
       "      <th>fraudulent</th>\n",
       "    </tr>\n",
       "    <tr>\n",
       "      <th>job_id</th>\n",
       "      <th></th>\n",
       "      <th></th>\n",
       "      <th></th>\n",
       "      <th></th>\n",
       "      <th></th>\n",
       "      <th></th>\n",
       "      <th></th>\n",
       "      <th></th>\n",
       "      <th></th>\n",
       "      <th></th>\n",
       "      <th></th>\n",
       "      <th></th>\n",
       "      <th></th>\n",
       "      <th></th>\n",
       "      <th></th>\n",
       "      <th></th>\n",
       "      <th></th>\n",
       "    </tr>\n",
       "  </thead>\n",
       "  <tbody>\n",
       "    <tr>\n",
       "      <th>99</th>\n",
       "      <td>IC&amp;E Technician</td>\n",
       "      <td>US, , Stocton, CA</td>\n",
       "      <td>Oil &amp; Energy</td>\n",
       "      <td>95000-115000</td>\n",
       "      <td>...</td>\n",
       "      <td>IC&amp;amp;E Technician | Bakersfield, CA Mt. Poso...</td>\n",
       "      <td>QualificationsKnowledge, Skills &amp;amp; Abilitie...</td>\n",
       "      <td>BENEFITSWhat is offered:Competitive compensati...</td>\n",
       "      <td>0</td>\n",
       "      <td>1</td>\n",
       "      <td>1</td>\n",
       "      <td>Full-time</td>\n",
       "      <td>Mid-Senior level</td>\n",
       "      <td>High School or equivalent</td>\n",
       "      <td>Oil &amp; Energy</td>\n",
       "      <td>Other</td>\n",
       "      <td>1</td>\n",
       "    </tr>\n",
       "    <tr>\n",
       "      <th>145</th>\n",
       "      <td>Forward Cap.</td>\n",
       "      <td>NaN</td>\n",
       "      <td>NaN</td>\n",
       "      <td>NaN</td>\n",
       "      <td>NaN</td>\n",
       "      <td>The group has raised a fund for the purchase o...</td>\n",
       "      <td>NaN</td>\n",
       "      <td>NaN</td>\n",
       "      <td>0</td>\n",
       "      <td>0</td>\n",
       "      <td>0</td>\n",
       "      <td>NaN</td>\n",
       "      <td>NaN</td>\n",
       "      <td>NaN</td>\n",
       "      <td>NaN</td>\n",
       "      <td>NaN</td>\n",
       "      <td>1</td>\n",
       "    </tr>\n",
       "  </tbody>\n",
       "</table>\n",
       "</div>"
      ],
      "text/plain": [
       "                  title           location    department  salary_range  \\\n",
       "job_id                                                                   \n",
       "99      IC&E Technician  US, , Stocton, CA  Oil & Energy  95000-115000   \n",
       "145        Forward Cap.                NaN           NaN           NaN   \n",
       "\n",
       "                                          company_profile  \\\n",
       "job_id                                                      \n",
       "99                                                    ...   \n",
       "145                                                   NaN   \n",
       "\n",
       "                                              description  \\\n",
       "job_id                                                      \n",
       "99      IC&amp;E Technician | Bakersfield, CA Mt. Poso...   \n",
       "145     The group has raised a fund for the purchase o...   \n",
       "\n",
       "                                             requirements  \\\n",
       "job_id                                                      \n",
       "99      QualificationsKnowledge, Skills &amp; Abilitie...   \n",
       "145                                                   NaN   \n",
       "\n",
       "                                                 benefits  telecommuting  \\\n",
       "job_id                                                                     \n",
       "99      BENEFITSWhat is offered:Competitive compensati...              0   \n",
       "145                                                   NaN              0   \n",
       "\n",
       "        has_company_logo  has_questions employment_type required_experience  \\\n",
       "job_id                                                                        \n",
       "99                     1              1       Full-time    Mid-Senior level   \n",
       "145                    0              0             NaN                 NaN   \n",
       "\n",
       "               required_education      industry function  fraudulent  \n",
       "job_id                                                                \n",
       "99      High School or equivalent  Oil & Energy    Other           1  \n",
       "145                           NaN           NaN      NaN           1  "
      ]
     },
     "execution_count": 135,
     "metadata": {},
     "output_type": "execute_result"
    }
   ],
   "source": [
    "df[df['fraudulent']==1].head(2)"
   ]
  },
  {
   "cell_type": "code",
   "execution_count": 136,
   "metadata": {},
   "outputs": [
    {
     "name": "stdout",
     "output_type": "stream",
     "text": [
      "<class 'pandas.core.frame.DataFrame'>\n",
      "Index: 17880 entries, 1 to 17880\n",
      "Data columns (total 17 columns):\n",
      " #   Column               Non-Null Count  Dtype \n",
      "---  ------               --------------  ----- \n",
      " 0   title                17880 non-null  object\n",
      " 1   location             17534 non-null  object\n",
      " 2   department           6333 non-null   object\n",
      " 3   salary_range         2868 non-null   object\n",
      " 4   company_profile      14572 non-null  object\n",
      " 5   description          17879 non-null  object\n",
      " 6   requirements         15184 non-null  object\n",
      " 7   benefits             10668 non-null  object\n",
      " 8   telecommuting        17880 non-null  int64 \n",
      " 9   has_company_logo     17880 non-null  int64 \n",
      " 10  has_questions        17880 non-null  int64 \n",
      " 11  employment_type      14409 non-null  object\n",
      " 12  required_experience  10830 non-null  object\n",
      " 13  required_education   9775 non-null   object\n",
      " 14  industry             12977 non-null  object\n",
      " 15  function             11425 non-null  object\n",
      " 16  fraudulent           17880 non-null  int64 \n",
      "dtypes: int64(4), object(13)\n",
      "memory usage: 2.5+ MB\n"
     ]
    }
   ],
   "source": [
    "df.info()"
   ]
  },
  {
   "cell_type": "code",
   "execution_count": 137,
   "metadata": {},
   "outputs": [
    {
     "data": {
      "text/plain": [
       "fraudulent\n",
       "0    95.1566\n",
       "1     4.8434\n",
       "Name: proportion, dtype: float64"
      ]
     },
     "execution_count": 137,
     "metadata": {},
     "output_type": "execute_result"
    }
   ],
   "source": [
    "# Evaluate the class distribution of 'fraudulent' labels in percentage\n",
    "df['fraudulent'].value_counts(normalize=True)*100"
   ]
  },
  {
   "cell_type": "markdown",
   "metadata": {},
   "source": [
    "### Identify Data Types\n",
    "\n",
    "Identifying columns as binary, categorical or text is essential to be made in the beginning, because:\n",
    "- Categorical variables often need to be encoded into numerical formats (e.g., one-hot encoding, label encoding) for machine learning algorithms, while text data typically requires different processing techniques, such as tokenization or vectorization.\n",
    "- Different strategies are often employed for imputing missing values depending on whether a column is categorical or textual."
   ]
  },
  {
   "cell_type": "code",
   "execution_count": 138,
   "metadata": {},
   "outputs": [
    {
     "data": {
      "text/plain": [
       "telecommuting           int64\n",
       "has_questions           int64\n",
       "has_company_logo        int64\n",
       "fraudulent              int64\n",
       "company_profile        object\n",
       "description            object\n",
       "requirements           object\n",
       "benefits               object\n",
       "function               object\n",
       "department             object\n",
       "location               object\n",
       "employment_type        object\n",
       "required_experience    object\n",
       "required_education     object\n",
       "industry               object\n",
       "salary_range           object\n",
       "title                  object\n",
       "dtype: object"
      ]
     },
     "execution_count": 138,
     "metadata": {},
     "output_type": "execute_result"
    }
   ],
   "source": [
    "df.dtypes.sort_values()"
   ]
  },
  {
   "cell_type": "code",
   "execution_count": 139,
   "metadata": {},
   "outputs": [
    {
     "data": {
      "text/plain": [
       "has_company_logo           2\n",
       "has_questions              2\n",
       "telecommuting              2\n",
       "fraudulent                 2\n",
       "employment_type            5\n",
       "required_experience        7\n",
       "required_education        13\n",
       "function                  37\n",
       "industry                 131\n",
       "salary_range             874\n",
       "department              1337\n",
       "company_profile         1709\n",
       "location                3105\n",
       "benefits                6204\n",
       "title                  11231\n",
       "requirements           11967\n",
       "description            14801\n",
       "dtype: int64"
      ]
     },
     "execution_count": 139,
     "metadata": {},
     "output_type": "execute_result"
    }
   ],
   "source": [
    "# check unique values - helps to decide how to treat data: as binary, categorical or text\n",
    "df.nunique().sort_values()"
   ]
  },
  {
   "cell_type": "code",
   "execution_count": 140,
   "metadata": {},
   "outputs": [
    {
     "data": {
      "text/plain": [
       "requirements\n",
       "University degree required. TEFL / TESOL / CELTA or teaching experience preferred but not necessaryC    410\n",
       "University degree required. TEFL / TESOL / CELTA or teaching experience preferred but not necessaryP    163\n",
       "16-18 year olds only due to government funding.Full time availability.                                  117\n",
       "Minimum Requirements:Minimum of 6 months customer service related experience requiredHigh school dip     80\n",
       "University degree required. TEFL / TESOL / CELTA, and/or teaching experience preferredCanada/US pass     42\n",
       "                                                                                                       ... \n",
       "About You2 or more years managing analytics infrastructure in a startup environment.Highly proficien      1\n",
       "Understands what a startup is and is willing to work in such environmentUnderstanding of the sales p      1\n",
       "RequirementsMarket knowledge about the UK real estate sector having lived and/or studied in the UK b      1\n",
       "Job requirements and essential functions: Able to type a minimum of 45 WPM Computer savvy Basic know      1\n",
       "We are not looking for employees, we are looking for partners to help expand the pipelines and incre      1\n",
       "Name: count, Length: 11967, dtype: int64"
      ]
     },
     "execution_count": 140,
     "metadata": {},
     "output_type": "execute_result"
    }
   ],
   "source": [
    "# check values in a column\n",
    "# Get value counts and truncate strings indexes\n",
    "truncated_index_counts = df['requirements'].value_counts().rename(\n",
    "    index=lambda x: x[:100]\n",
    ")\n",
    "truncated_index_counts"
   ]
  },
  {
   "cell_type": "code",
   "execution_count": 141,
   "metadata": {},
   "outputs": [],
   "source": [
    "binary_columns = [\n",
    "    'has_company_logo',\n",
    "    'has_questions',\n",
    "    'telecommuting',\n",
    "    'fraudulent',\n",
    "]\n",
    "\n",
    "ordinal_columns = [\n",
    "    'employment_type',\n",
    "    'required_experience',\n",
    "    'required_education',\n",
    "    'salary_range'\n",
    "]\n",
    "\n",
    "nominal_columns = [\n",
    "    'function',\n",
    "    'industry',\n",
    "    'department',\n",
    "    'location',\n",
    "    'title'\n",
    "]\n",
    "\n",
    "text_columns = [\n",
    "    'company_profile',\n",
    "    'benefits',\n",
    "    'requirements',\n",
    "    'description'\n",
    "]"
   ]
  },
  {
   "cell_type": "markdown",
   "metadata": {},
   "source": [
    "## Handle Missing Values\n",
    "\n",
    "- drop high missing value columns\n",
    "- drop rows depending on the importance of the columns and how much data is missing.\n",
    "- fill missning values with placeholder or mode\n",
    "\n",
    "Notes:\n",
    "\n",
    "- As the dataset is very imbalanced (95.16% for 0 and 4.84% for 1), we will apply rows removal only for the majority class (0).\n",
    "\n",
    "- Conduct data imputation with mean, mode and etc. **after** train/test split in order to prevent data leakage, ensuring that information from the test set does not influence the training process.\n",
    "\n",
    "### Drop rows/cols"
   ]
  },
  {
   "cell_type": "code",
   "execution_count": 142,
   "metadata": {},
   "outputs": [
    {
     "data": {
      "text/html": [
       "<div>\n",
       "<style scoped>\n",
       "    .dataframe tbody tr th:only-of-type {\n",
       "        vertical-align: middle;\n",
       "    }\n",
       "\n",
       "    .dataframe tbody tr th {\n",
       "        vertical-align: top;\n",
       "    }\n",
       "\n",
       "    .dataframe thead th {\n",
       "        text-align: right;\n",
       "    }\n",
       "</style>\n",
       "<table border=\"1\" class=\"dataframe\">\n",
       "  <thead>\n",
       "    <tr style=\"text-align: right;\">\n",
       "      <th>fraudulent</th>\n",
       "      <th>0</th>\n",
       "      <th>1</th>\n",
       "    </tr>\n",
       "  </thead>\n",
       "  <tbody>\n",
       "    <tr>\n",
       "      <th>salary_range</th>\n",
       "      <td>84.453979</td>\n",
       "      <td>74.249423</td>\n",
       "    </tr>\n",
       "    <tr>\n",
       "      <th>department</th>\n",
       "      <td>64.746679</td>\n",
       "      <td>61.316397</td>\n",
       "    </tr>\n",
       "    <tr>\n",
       "      <th>required_education</th>\n",
       "      <td>44.986482</td>\n",
       "      <td>52.078522</td>\n",
       "    </tr>\n",
       "    <tr>\n",
       "      <th>benefits</th>\n",
       "      <td>40.249207</td>\n",
       "      <td>42.032333</td>\n",
       "    </tr>\n",
       "    <tr>\n",
       "      <th>required_experience</th>\n",
       "      <td>38.879746</td>\n",
       "      <td>50.230947</td>\n",
       "    </tr>\n",
       "    <tr>\n",
       "      <th>function</th>\n",
       "      <td>35.958622</td>\n",
       "      <td>38.914550</td>\n",
       "    </tr>\n",
       "    <tr>\n",
       "      <th>industry</th>\n",
       "      <td>27.201128</td>\n",
       "      <td>31.755196</td>\n",
       "    </tr>\n",
       "    <tr>\n",
       "      <th>employment_type</th>\n",
       "      <td>18.984366</td>\n",
       "      <td>27.829099</td>\n",
       "    </tr>\n",
       "    <tr>\n",
       "      <th>company_profile</th>\n",
       "      <td>15.992712</td>\n",
       "      <td>67.782910</td>\n",
       "    </tr>\n",
       "    <tr>\n",
       "      <th>requirements</th>\n",
       "      <td>14.940637</td>\n",
       "      <td>17.782910</td>\n",
       "    </tr>\n",
       "    <tr>\n",
       "      <th>location</th>\n",
       "      <td>1.921947</td>\n",
       "      <td>2.193995</td>\n",
       "    </tr>\n",
       "    <tr>\n",
       "      <th>title</th>\n",
       "      <td>0.000000</td>\n",
       "      <td>0.000000</td>\n",
       "    </tr>\n",
       "    <tr>\n",
       "      <th>description</th>\n",
       "      <td>0.000000</td>\n",
       "      <td>0.115473</td>\n",
       "    </tr>\n",
       "    <tr>\n",
       "      <th>has_questions</th>\n",
       "      <td>0.000000</td>\n",
       "      <td>0.000000</td>\n",
       "    </tr>\n",
       "    <tr>\n",
       "      <th>telecommuting</th>\n",
       "      <td>0.000000</td>\n",
       "      <td>0.000000</td>\n",
       "    </tr>\n",
       "    <tr>\n",
       "      <th>has_company_logo</th>\n",
       "      <td>0.000000</td>\n",
       "      <td>0.000000</td>\n",
       "    </tr>\n",
       "  </tbody>\n",
       "</table>\n",
       "</div>"
      ],
      "text/plain": [
       "fraudulent                   0          1\n",
       "salary_range         84.453979  74.249423\n",
       "department           64.746679  61.316397\n",
       "required_education   44.986482  52.078522\n",
       "benefits             40.249207  42.032333\n",
       "required_experience  38.879746  50.230947\n",
       "function             35.958622  38.914550\n",
       "industry             27.201128  31.755196\n",
       "employment_type      18.984366  27.829099\n",
       "company_profile      15.992712  67.782910\n",
       "requirements         14.940637  17.782910\n",
       "location              1.921947   2.193995\n",
       "title                 0.000000   0.000000\n",
       "description           0.000000   0.115473\n",
       "has_questions         0.000000   0.000000\n",
       "telecommuting         0.000000   0.000000\n",
       "has_company_logo      0.000000   0.000000"
      ]
     },
     "execution_count": 142,
     "metadata": {},
     "output_type": "execute_result"
    }
   ],
   "source": [
    "# Check for NaN values (in percentage) grouped by 'fraudulent' and sort the counts\n",
    "df.groupby('fraudulent').apply(\n",
    "    lambda group: group.isna().mean()*100, include_groups=False\n",
    ").T.sort_values(by=0, ascending=False)"
   ]
  },
  {
   "cell_type": "code",
   "execution_count": 143,
   "metadata": {},
   "outputs": [],
   "source": [
    "# Drop columns with a high percentage of missing values in both classes\n",
    "df.drop(columns=['salary_range', 'department'], inplace=True)"
   ]
  },
  {
   "cell_type": "code",
   "execution_count": 144,
   "metadata": {},
   "outputs": [],
   "source": [
    "# drop rows with missing 'description'\n",
    "df.dropna(subset=['description'], inplace=True)"
   ]
  },
  {
   "cell_type": "markdown",
   "metadata": {},
   "source": [
    "### Impute missing values"
   ]
  },
  {
   "cell_type": "code",
   "execution_count": 145,
   "metadata": {},
   "outputs": [
    {
     "data": {
      "text/plain": [
       "['location',\n",
       " 'company_profile',\n",
       " 'requirements',\n",
       " 'benefits',\n",
       " 'employment_type',\n",
       " 'required_experience',\n",
       " 'required_education',\n",
       " 'industry',\n",
       " 'function']"
      ]
     },
     "execution_count": 145,
     "metadata": {},
     "output_type": "execute_result"
    }
   ],
   "source": [
    "missing_values_columns = df.columns[df.isna().sum() != 0].tolist()\n",
    "missing_values_columns"
   ]
  },
  {
   "cell_type": "code",
   "execution_count": 146,
   "metadata": {},
   "outputs": [],
   "source": [
    "# Impute categorical and text columns with placeholders\n",
    "placeholder_map = {\n",
    "    'location': 'Other',\n",
    "    'company_profile': 'Missing',\n",
    "    'requirements': 'Missing',\n",
    "    'benefits':'See job description', # mode\n",
    "    'employment_type':'Other',\n",
    "    'required_experience': 'Not Applicable',\n",
    "    'required_education':'Unspecified',\n",
    "    'industry':'Other',\n",
    "    'function': 'Other'\n",
    "}\n",
    "\n",
    "df.fillna(value=placeholder_map, inplace=True)"
   ]
  },
  {
   "cell_type": "code",
   "execution_count": 147,
   "metadata": {},
   "outputs": [
    {
     "data": {
      "text/plain": [
       "np.int64(0)"
      ]
     },
     "execution_count": 147,
     "metadata": {},
     "output_type": "execute_result"
    }
   ],
   "source": [
    "df.isna().sum().sum()"
   ]
  },
  {
   "cell_type": "code",
   "execution_count": 148,
   "metadata": {},
   "outputs": [
    {
     "data": {
      "text/plain": [
       "(17879, 15)"
      ]
     },
     "execution_count": 148,
     "metadata": {},
     "output_type": "execute_result"
    }
   ],
   "source": [
    "df.shape"
   ]
  },
  {
   "cell_type": "markdown",
   "metadata": {},
   "source": [
    "## Encode Categorical Variables:\n",
    "\n",
    "Apply appropriate encoding techniques:\n",
    "- **Binary columns**: Use direct mapping (0/1).\n",
    "- **Ordinal columns**: Use label encoding.\n",
    "- **Nominal columns**: Use One-Hot Encoding, target encoding or frequency encoding \n"
   ]
  },
  {
   "cell_type": "code",
   "execution_count": 149,
   "metadata": {},
   "outputs": [],
   "source": [
    "# Define lists for different types of columns\n",
    "binary_columns = ['has_company_logo', 'has_questions', 'telecommuting', 'fraudulent']\n",
    "ordinal_columns = ['employment_type', 'required_experience', 'required_education']\n",
    "nominal_columns = ['function', 'industry', 'location', 'benefits']\n",
    "text_columns = ['title', 'requirements', 'description', 'company_profile']"
   ]
  },
  {
   "cell_type": "code",
   "execution_count": 150,
   "metadata": {},
   "outputs": [
    {
     "data": {
      "text/plain": [
       "has_company_logo    int64\n",
       "has_questions       int64\n",
       "telecommuting       int64\n",
       "fraudulent          int64\n",
       "dtype: object"
      ]
     },
     "execution_count": 150,
     "metadata": {},
     "output_type": "execute_result"
    }
   ],
   "source": [
    "df[binary_columns].dtypes"
   ]
  },
  {
   "cell_type": "markdown",
   "metadata": {},
   "source": [
    "### Encode Ordinal columns using Label Encoding"
   ]
  },
  {
   "cell_type": "code",
   "execution_count": 151,
   "metadata": {},
   "outputs": [],
   "source": [
    "ordinal_encoder = LabelEncoder()\n",
    "for column in ordinal_columns:\n",
    "    df[column] = ordinal_encoder.fit_transform(df[column])\n"
   ]
  },
  {
   "cell_type": "markdown",
   "metadata": {},
   "source": [
    "### Encode Nominal columns"
   ]
  },
  {
   "cell_type": "code",
   "execution_count": 152,
   "metadata": {},
   "outputs": [
    {
     "data": {
      "text/plain": [
       "function      37\n",
       "industry     132\n",
       "location    3106\n",
       "benefits    6204\n",
       "dtype: int64"
      ]
     },
     "execution_count": 152,
     "metadata": {},
     "output_type": "execute_result"
    }
   ],
   "source": [
    "df[nominal_columns].nunique()"
   ]
  },
  {
   "cell_type": "code",
   "execution_count": 153,
   "metadata": {},
   "outputs": [],
   "source": [
    "def frequency_encode(df, nominal_columns):\n",
    "    for column in nominal_columns:\n",
    "        # Calculate frequency of each category\n",
    "        frequency = df[column].value_counts() / len(df)\n",
    "        # Map frequencies to the column\n",
    "        df[column] = df[column].map(frequency)\n",
    "    return df\n",
    "\n",
    "df = frequency_encode(df, nominal_columns)"
   ]
  },
  {
   "cell_type": "markdown",
   "metadata": {},
   "source": [
    "## Select features"
   ]
  },
  {
   "cell_type": "code",
   "execution_count": 154,
   "metadata": {},
   "outputs": [],
   "source": [
    "# use all columns, except fraudulent\n",
    "X = df.drop(columns=['fraudulent'])\n",
    "y = df['fraudulent']"
   ]
  },
  {
   "cell_type": "markdown",
   "metadata": {},
   "source": [
    "## Text Data Cleaning\n",
    "   - Remove special characters and unnecessary whitespace from text columns.\n",
    "   - Convert text to lowercase for uniformity.\n",
    "   - Remove leading/trainling whitespaces\n",
    "   - Optionally, perform lemmatization or stemming on text data."
   ]
  },
  {
   "cell_type": "code",
   "execution_count": 155,
   "metadata": {},
   "outputs": [],
   "source": [
    "def clean_text(text):\n",
    "    if isinstance(text, str):\n",
    "        text = re.sub(r'[^a-zA-Z0-9_\\s]', '', text)\n",
    "        text = text.lower()\n",
    "        text = text.strip()\n",
    "    return text"
   ]
  },
  {
   "cell_type": "code",
   "execution_count": 156,
   "metadata": {},
   "outputs": [
    {
     "data": {
      "text/plain": [
       "['title', 'requirements', 'description', 'company_profile']"
      ]
     },
     "execution_count": 156,
     "metadata": {},
     "output_type": "execute_result"
    }
   ],
   "source": [
    "text_columns"
   ]
  },
  {
   "cell_type": "code",
   "execution_count": 157,
   "metadata": {},
   "outputs": [],
   "source": [
    "# Apply the clean_text function to each specified text column\n",
    "for column in text_columns:\n",
    "    X[column] = X[column].apply(clean_text)"
   ]
  },
  {
   "cell_type": "markdown",
   "metadata": {},
   "source": [
    "## Split the Data"
   ]
  },
  {
   "cell_type": "code",
   "execution_count": 158,
   "metadata": {},
   "outputs": [],
   "source": [
    "# Split the data\n",
    "X_train, X_test, y_train, y_test = train_test_split(X, y, test_size=0.2, random_state=42, stratify=y)"
   ]
  },
  {
   "cell_type": "code",
   "execution_count": 159,
   "metadata": {},
   "outputs": [
    {
     "name": "stdout",
     "output_type": "stream",
     "text": [
      "<class 'pandas.core.frame.DataFrame'>\n",
      "Index: 17879 entries, 1 to 17880\n",
      "Data columns (total 14 columns):\n",
      " #   Column               Non-Null Count  Dtype  \n",
      "---  ------               --------------  -----  \n",
      " 0   title                17879 non-null  object \n",
      " 1   location             17879 non-null  float64\n",
      " 2   company_profile      17879 non-null  object \n",
      " 3   description          17879 non-null  object \n",
      " 4   requirements         17879 non-null  object \n",
      " 5   benefits             17879 non-null  float64\n",
      " 6   telecommuting        17879 non-null  int64  \n",
      " 7   has_company_logo     17879 non-null  int64  \n",
      " 8   has_questions        17879 non-null  int64  \n",
      " 9   employment_type      17879 non-null  int64  \n",
      " 10  required_experience  17879 non-null  int64  \n",
      " 11  required_education   17879 non-null  int64  \n",
      " 12  industry             17879 non-null  float64\n",
      " 13  function             17879 non-null  float64\n",
      "dtypes: float64(4), int64(6), object(4)\n",
      "memory usage: 2.0+ MB\n"
     ]
    },
    {
     "data": {
      "text/plain": [
       "['title', 'requirements', 'description', 'company_profile']"
      ]
     },
     "execution_count": 159,
     "metadata": {},
     "output_type": "execute_result"
    }
   ],
   "source": [
    "X.info()\n",
    "text_columns"
   ]
  },
  {
   "cell_type": "markdown",
   "metadata": {},
   "source": [
    "## Converting text data into TF-IDF features"
   ]
  },
  {
   "cell_type": "code",
   "execution_count": 160,
   "metadata": {},
   "outputs": [],
   "source": [
    "# Define the TF-IDF vectorization function\n",
    "@memory.cache\n",
    "def fit_and_transform_tfidf(X_train_raw, X_test_raw, features):\n",
    "    # Initialize vectorizers for each text feature\n",
    "    vectorizers = {\n",
    "        feature: TfidfVectorizer(stop_words='english', min_df=5, max_df=0.8, ngram_range=(1, 2))\n",
    "        for feature in features\n",
    "    }\n",
    "\n",
    "    # List to store TF-IDF matrices\n",
    "    tfidf_matrices_train = []\n",
    "    tfidf_matrices_test = []\n",
    "\n",
    "    # Loop through features to fit and transform\n",
    "    for feature in features:\n",
    "        # Fit on training data and transform both train and test data\n",
    "        vectorizers[feature].fit(X_train_raw[feature])\n",
    "        tfidf_matrix_train = vectorizers[feature].transform(X_train_raw[feature])\n",
    "        tfidf_matrix_test = vectorizers[feature].transform(X_test_raw[feature])\n",
    "\n",
    "        tfidf_matrices_train.append(tfidf_matrix_train)\n",
    "        tfidf_matrices_test.append(tfidf_matrix_test)\n",
    "\n",
    "    # Combine all TF-IDF matrices into one\n",
    "    X_train = hstack(tfidf_matrices_train)\n",
    "    X_test = hstack(tfidf_matrices_test)\n",
    "\n",
    "    return X_train, X_test\n",
    "\n",
    "# List of features to vectorize\n",
    "features = ['description', 'requirements', 'benefits']\n",
    "\n",
    "# Fit and transform the TF-IDF vectors (this will be cached)\n",
    "X_train, X_test = fit_and_transform_tfidf(X_train, X_test, text_columns)\n"
   ]
  },
  {
   "cell_type": "code",
   "execution_count": 161,
   "metadata": {},
   "outputs": [
    {
     "name": "stdout",
     "output_type": "stream",
     "text": [
      "(14303, 137613)\n",
      "(3576, 137613)\n"
     ]
    }
   ],
   "source": [
    "print(X_train.shape)\n",
    "print(X_test.shape)"
   ]
  },
  {
   "cell_type": "code",
   "execution_count": 162,
   "metadata": {},
   "outputs": [
    {
     "data": {
      "text/plain": [
       "fraudulent\n",
       "0    95.161854\n",
       "1     4.838146\n",
       "Name: count, dtype: float64"
      ]
     },
     "execution_count": 162,
     "metadata": {},
     "output_type": "execute_result"
    }
   ],
   "source": [
    "# check for imbalaced dataset - calculate percentages:\n",
    "y_train_counts = y_train.value_counts()\n",
    "percentages = (y_train_counts/y_train_counts.sum())*100\n",
    "percentages"
   ]
  },
  {
   "cell_type": "markdown",
   "metadata": {},
   "source": [
    "## Oversampling because the dataset is imbalanced"
   ]
  },
  {
   "cell_type": "code",
   "execution_count": 163,
   "metadata": {},
   "outputs": [
    {
     "name": "stdout",
     "output_type": "stream",
     "text": [
      "(27222, 137613)\n",
      "(27222,)\n"
     ]
    }
   ],
   "source": [
    "# Creating an instance of SMOTE\n",
    "smote = SMOTE()\n",
    "\n",
    "# Balancing the data\n",
    "X_resampled, y_resampled = smote.fit_resample(X_train, y_train)\n",
    "\n",
    "print(X_resampled.shape)\n",
    "print(y_resampled.shape)"
   ]
  },
  {
   "cell_type": "code",
   "execution_count": 164,
   "metadata": {},
   "outputs": [
    {
     "data": {
      "text/plain": [
       "fraudulent\n",
       "0    50.0\n",
       "1    50.0\n",
       "Name: count, dtype: float64"
      ]
     },
     "execution_count": 164,
     "metadata": {},
     "output_type": "execute_result"
    }
   ],
   "source": [
    "# check for imbalaced dataset - calculate percentages:\n",
    "y_resampled_counts = y_resampled.value_counts()\n",
    "percentages = (y_resampled_counts/y_resampled_counts.sum())*100\n",
    "percentages"
   ]
  },
  {
   "cell_type": "markdown",
   "metadata": {},
   "source": [
    "## Save processed data"
   ]
  },
  {
   "cell_type": "code",
   "execution_count": 165,
   "metadata": {},
   "outputs": [],
   "source": [
    "# Save the sparse matrix\n",
    "save_npz('../data/processed/X_resampled.npz', X_resampled)\n",
    "\n",
    "# Save y_resampled as a DataFrame (you can also use Series)\n",
    "pd.Series(y_resampled).to_csv('../data/processedy_resampled.csv', index=False)"
   ]
  },
  {
   "cell_type": "markdown",
   "metadata": {},
   "source": [
    "##  Load processed data"
   ]
  },
  {
   "cell_type": "code",
   "execution_count": 166,
   "metadata": {},
   "outputs": [],
   "source": [
    "# Load the sparse matrix\n",
    "X_resampled_loaded = load_npz('../data/processed/X_resampled.npz')\n",
    "\n",
    "# Load the target variable\n",
    "y_resampled_loaded = pd.read_csv('../data/processedy_resampled.csv').values.flatten()  # Use .values.flatten() if you need it as a 1D array"
   ]
  }
 ],
 "metadata": {
  "kernelspec": {
   "display_name": ".venv",
   "language": "python",
   "name": "python3"
  },
  "language_info": {
   "codemirror_mode": {
    "name": "ipython",
    "version": 3
   },
   "file_extension": ".py",
   "mimetype": "text/x-python",
   "name": "python",
   "nbconvert_exporter": "python",
   "pygments_lexer": "ipython3",
   "version": "3.12.3"
  }
 },
 "nbformat": 4,
 "nbformat_minor": 2
}
