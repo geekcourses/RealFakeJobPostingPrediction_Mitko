{
 "cells": [
  {
   "cell_type": "code",
   "execution_count": 611,
   "metadata": {},
   "outputs": [],
   "source": [
    "import numpy as np\n",
    "import pandas as pd\n",
    "from sklearn.preprocessing import LabelEncoder\n",
    "\n",
    "import nltk\n",
    "import string\n",
    "\n",
    "from nltk.corpus import stopwords\n",
    "from nltk.stem import WordNetLemmatizer\n",
    "\n",
    "from sklearn.model_selection import train_test_split\n",
    "import re\n",
    "from sklearn.feature_extraction.text import TfidfVectorizer\n",
    "\n",
    "from joblib import Memory\n",
    "from scipy.sparse import hstack\n",
    "\n",
    "from imblearn.over_sampling import SMOTE\n",
    "\n",
    "import matplotlib.pyplot as plt\n",
    "import seaborn as sns\n",
    "import joblib\n",
    "from scipy.sparse import save_npz"
   ]
  },
  {
   "cell_type": "code",
   "execution_count": 612,
   "metadata": {},
   "outputs": [],
   "source": [
    "# Set up memory caching\n",
    "memory = Memory('./cachedir', verbose=0)"
   ]
  },
  {
   "cell_type": "markdown",
   "metadata": {},
   "source": [
    "## Given:\n",
    "### [Real or Fake] : Fake Job Description Prediction\n",
    "### This dataset contains 18K job descriptions out of which about 800 are fake. The data consists of both textual information and meta-information about the jobs. The dataset can be used to create classification models which can learn the job descriptions which are fraudulent."
   ]
  },
  {
   "cell_type": "markdown",
   "metadata": {},
   "source": [
    "## Goal:\n",
    "### Create a classification model that uses text data features and meta-features and predict which job description are fraudulent or real."
   ]
  },
  {
   "cell_type": "markdown",
   "metadata": {},
   "source": [
    "## Load and Analyze the data:"
   ]
  },
  {
   "cell_type": "code",
   "execution_count": 613,
   "metadata": {},
   "outputs": [
    {
     "data": {
      "text/html": [
       "<div>\n",
       "<style scoped>\n",
       "    .dataframe tbody tr th:only-of-type {\n",
       "        vertical-align: middle;\n",
       "    }\n",
       "\n",
       "    .dataframe tbody tr th {\n",
       "        vertical-align: top;\n",
       "    }\n",
       "\n",
       "    .dataframe thead th {\n",
       "        text-align: right;\n",
       "    }\n",
       "</style>\n",
       "<table border=\"1\" class=\"dataframe\">\n",
       "  <thead>\n",
       "    <tr style=\"text-align: right;\">\n",
       "      <th></th>\n",
       "      <th>title</th>\n",
       "      <th>location</th>\n",
       "      <th>department</th>\n",
       "      <th>salary_range</th>\n",
       "      <th>company_profile</th>\n",
       "      <th>description</th>\n",
       "      <th>requirements</th>\n",
       "      <th>benefits</th>\n",
       "      <th>telecommuting</th>\n",
       "      <th>has_company_logo</th>\n",
       "      <th>has_questions</th>\n",
       "      <th>employment_type</th>\n",
       "      <th>required_experience</th>\n",
       "      <th>required_education</th>\n",
       "      <th>industry</th>\n",
       "      <th>function</th>\n",
       "      <th>fraudulent</th>\n",
       "    </tr>\n",
       "    <tr>\n",
       "      <th>job_id</th>\n",
       "      <th></th>\n",
       "      <th></th>\n",
       "      <th></th>\n",
       "      <th></th>\n",
       "      <th></th>\n",
       "      <th></th>\n",
       "      <th></th>\n",
       "      <th></th>\n",
       "      <th></th>\n",
       "      <th></th>\n",
       "      <th></th>\n",
       "      <th></th>\n",
       "      <th></th>\n",
       "      <th></th>\n",
       "      <th></th>\n",
       "      <th></th>\n",
       "      <th></th>\n",
       "    </tr>\n",
       "  </thead>\n",
       "  <tbody>\n",
       "    <tr>\n",
       "      <th>1</th>\n",
       "      <td>Marketing Intern</td>\n",
       "      <td>US, NY, New York</td>\n",
       "      <td>Marketing</td>\n",
       "      <td>NaN</td>\n",
       "      <td>We're Food52, and we've created a groundbreaki...</td>\n",
       "      <td>Food52, a fast-growing, James Beard Award-winn...</td>\n",
       "      <td>Experience with content management systems a m...</td>\n",
       "      <td>NaN</td>\n",
       "      <td>0</td>\n",
       "      <td>1</td>\n",
       "      <td>0</td>\n",
       "      <td>Other</td>\n",
       "      <td>Internship</td>\n",
       "      <td>NaN</td>\n",
       "      <td>NaN</td>\n",
       "      <td>Marketing</td>\n",
       "      <td>0</td>\n",
       "    </tr>\n",
       "    <tr>\n",
       "      <th>2</th>\n",
       "      <td>Customer Service - Cloud Video Production</td>\n",
       "      <td>NZ, , Auckland</td>\n",
       "      <td>Success</td>\n",
       "      <td>NaN</td>\n",
       "      <td>90 Seconds, the worlds Cloud Video Production ...</td>\n",
       "      <td>Organised - Focused - Vibrant - Awesome!Do you...</td>\n",
       "      <td>What we expect from you:Your key responsibilit...</td>\n",
       "      <td>What you will get from usThrough being part of...</td>\n",
       "      <td>0</td>\n",
       "      <td>1</td>\n",
       "      <td>0</td>\n",
       "      <td>Full-time</td>\n",
       "      <td>Not Applicable</td>\n",
       "      <td>NaN</td>\n",
       "      <td>Marketing and Advertising</td>\n",
       "      <td>Customer Service</td>\n",
       "      <td>0</td>\n",
       "    </tr>\n",
       "    <tr>\n",
       "      <th>3</th>\n",
       "      <td>Commissioning Machinery Assistant (CMA)</td>\n",
       "      <td>US, IA, Wever</td>\n",
       "      <td>NaN</td>\n",
       "      <td>NaN</td>\n",
       "      <td>Valor Services provides Workforce Solutions th...</td>\n",
       "      <td>Our client, located in Houston, is actively se...</td>\n",
       "      <td>Implement pre-commissioning and commissioning ...</td>\n",
       "      <td>NaN</td>\n",
       "      <td>0</td>\n",
       "      <td>1</td>\n",
       "      <td>0</td>\n",
       "      <td>NaN</td>\n",
       "      <td>NaN</td>\n",
       "      <td>NaN</td>\n",
       "      <td>NaN</td>\n",
       "      <td>NaN</td>\n",
       "      <td>0</td>\n",
       "    </tr>\n",
       "    <tr>\n",
       "      <th>4</th>\n",
       "      <td>Account Executive - Washington DC</td>\n",
       "      <td>US, DC, Washington</td>\n",
       "      <td>Sales</td>\n",
       "      <td>NaN</td>\n",
       "      <td>Our passion for improving quality of life thro...</td>\n",
       "      <td>THE COMPANY: ESRI – Environmental Systems Rese...</td>\n",
       "      <td>EDUCATION: Bachelor’s or Master’s in GIS, busi...</td>\n",
       "      <td>Our culture is anything but corporate—we have ...</td>\n",
       "      <td>0</td>\n",
       "      <td>1</td>\n",
       "      <td>0</td>\n",
       "      <td>Full-time</td>\n",
       "      <td>Mid-Senior level</td>\n",
       "      <td>Bachelor's Degree</td>\n",
       "      <td>Computer Software</td>\n",
       "      <td>Sales</td>\n",
       "      <td>0</td>\n",
       "    </tr>\n",
       "    <tr>\n",
       "      <th>5</th>\n",
       "      <td>Bill Review Manager</td>\n",
       "      <td>US, FL, Fort Worth</td>\n",
       "      <td>NaN</td>\n",
       "      <td>NaN</td>\n",
       "      <td>SpotSource Solutions LLC is a Global Human Cap...</td>\n",
       "      <td>JOB TITLE: Itemization Review ManagerLOCATION:...</td>\n",
       "      <td>QUALIFICATIONS:RN license in the State of Texa...</td>\n",
       "      <td>Full Benefits Offered</td>\n",
       "      <td>0</td>\n",
       "      <td>1</td>\n",
       "      <td>1</td>\n",
       "      <td>Full-time</td>\n",
       "      <td>Mid-Senior level</td>\n",
       "      <td>Bachelor's Degree</td>\n",
       "      <td>Hospital &amp; Health Care</td>\n",
       "      <td>Health Care Provider</td>\n",
       "      <td>0</td>\n",
       "    </tr>\n",
       "  </tbody>\n",
       "</table>\n",
       "</div>"
      ],
      "text/plain": [
       "                                            title            location  \\\n",
       "job_id                                                                  \n",
       "1                                Marketing Intern    US, NY, New York   \n",
       "2       Customer Service - Cloud Video Production      NZ, , Auckland   \n",
       "3         Commissioning Machinery Assistant (CMA)       US, IA, Wever   \n",
       "4               Account Executive - Washington DC  US, DC, Washington   \n",
       "5                             Bill Review Manager  US, FL, Fort Worth   \n",
       "\n",
       "       department salary_range  \\\n",
       "job_id                           \n",
       "1       Marketing          NaN   \n",
       "2         Success          NaN   \n",
       "3             NaN          NaN   \n",
       "4           Sales          NaN   \n",
       "5             NaN          NaN   \n",
       "\n",
       "                                          company_profile  \\\n",
       "job_id                                                      \n",
       "1       We're Food52, and we've created a groundbreaki...   \n",
       "2       90 Seconds, the worlds Cloud Video Production ...   \n",
       "3       Valor Services provides Workforce Solutions th...   \n",
       "4       Our passion for improving quality of life thro...   \n",
       "5       SpotSource Solutions LLC is a Global Human Cap...   \n",
       "\n",
       "                                              description  \\\n",
       "job_id                                                      \n",
       "1       Food52, a fast-growing, James Beard Award-winn...   \n",
       "2       Organised - Focused - Vibrant - Awesome!Do you...   \n",
       "3       Our client, located in Houston, is actively se...   \n",
       "4       THE COMPANY: ESRI – Environmental Systems Rese...   \n",
       "5       JOB TITLE: Itemization Review ManagerLOCATION:...   \n",
       "\n",
       "                                             requirements  \\\n",
       "job_id                                                      \n",
       "1       Experience with content management systems a m...   \n",
       "2       What we expect from you:Your key responsibilit...   \n",
       "3       Implement pre-commissioning and commissioning ...   \n",
       "4       EDUCATION: Bachelor’s or Master’s in GIS, busi...   \n",
       "5       QUALIFICATIONS:RN license in the State of Texa...   \n",
       "\n",
       "                                                 benefits  telecommuting  \\\n",
       "job_id                                                                     \n",
       "1                                                     NaN              0   \n",
       "2       What you will get from usThrough being part of...              0   \n",
       "3                                                     NaN              0   \n",
       "4       Our culture is anything but corporate—we have ...              0   \n",
       "5                                   Full Benefits Offered              0   \n",
       "\n",
       "        has_company_logo  has_questions employment_type required_experience  \\\n",
       "job_id                                                                        \n",
       "1                      1              0           Other          Internship   \n",
       "2                      1              0       Full-time      Not Applicable   \n",
       "3                      1              0             NaN                 NaN   \n",
       "4                      1              0       Full-time    Mid-Senior level   \n",
       "5                      1              1       Full-time    Mid-Senior level   \n",
       "\n",
       "       required_education                   industry              function  \\\n",
       "job_id                                                                       \n",
       "1                     NaN                        NaN             Marketing   \n",
       "2                     NaN  Marketing and Advertising      Customer Service   \n",
       "3                     NaN                        NaN                   NaN   \n",
       "4       Bachelor's Degree          Computer Software                 Sales   \n",
       "5       Bachelor's Degree     Hospital & Health Care  Health Care Provider   \n",
       "\n",
       "        fraudulent  \n",
       "job_id              \n",
       "1                0  \n",
       "2                0  \n",
       "3                0  \n",
       "4                0  \n",
       "5                0  "
      ]
     },
     "execution_count": 613,
     "metadata": {},
     "output_type": "execute_result"
    }
   ],
   "source": [
    "df = pd.read_csv(\"../data/raw/fake_job_postings.csv\", index_col=0)\n",
    "description_df = df.copy()\n",
    "df_combined_text = df.copy()\n",
    "\n",
    "\n",
    "df.head()\n"
   ]
  },
  {
   "cell_type": "code",
   "execution_count": 614,
   "metadata": {},
   "outputs": [
    {
     "name": "stdout",
     "output_type": "stream",
     "text": [
      "<class 'pandas.core.frame.DataFrame'>\n",
      "Index: 17880 entries, 1 to 17880\n",
      "Data columns (total 17 columns):\n",
      " #   Column               Non-Null Count  Dtype \n",
      "---  ------               --------------  ----- \n",
      " 0   title                17880 non-null  object\n",
      " 1   location             17534 non-null  object\n",
      " 2   department           6333 non-null   object\n",
      " 3   salary_range         2868 non-null   object\n",
      " 4   company_profile      14572 non-null  object\n",
      " 5   description          17879 non-null  object\n",
      " 6   requirements         15184 non-null  object\n",
      " 7   benefits             10668 non-null  object\n",
      " 8   telecommuting        17880 non-null  int64 \n",
      " 9   has_company_logo     17880 non-null  int64 \n",
      " 10  has_questions        17880 non-null  int64 \n",
      " 11  employment_type      14409 non-null  object\n",
      " 12  required_experience  10830 non-null  object\n",
      " 13  required_education   9775 non-null   object\n",
      " 14  industry             12977 non-null  object\n",
      " 15  function             11425 non-null  object\n",
      " 16  fraudulent           17880 non-null  int64 \n",
      "dtypes: int64(4), object(13)\n",
      "memory usage: 2.5+ MB\n"
     ]
    }
   ],
   "source": [
    "df.info()"
   ]
  },
  {
   "cell_type": "code",
   "execution_count": 615,
   "metadata": {},
   "outputs": [
    {
     "data": {
      "text/plain": [
       "title                      0\n",
       "location                 346\n",
       "department             11547\n",
       "salary_range           15012\n",
       "company_profile         3308\n",
       "description                1\n",
       "requirements            2696\n",
       "benefits                7212\n",
       "telecommuting              0\n",
       "has_company_logo           0\n",
       "has_questions              0\n",
       "employment_type         3471\n",
       "required_experience     7050\n",
       "required_education      8105\n",
       "industry                4903\n",
       "function                6455\n",
       "fraudulent                 0\n",
       "dtype: int64"
      ]
     },
     "execution_count": 615,
     "metadata": {},
     "output_type": "execute_result"
    }
   ],
   "source": [
    "df.isna().sum()"
   ]
  },
  {
   "cell_type": "code",
   "execution_count": 616,
   "metadata": {},
   "outputs": [
    {
     "data": {
      "text/plain": [
       "(17880, 17)"
      ]
     },
     "execution_count": 616,
     "metadata": {},
     "output_type": "execute_result"
    }
   ],
   "source": [
    "df.shape"
   ]
  },
  {
   "cell_type": "code",
   "execution_count": 617,
   "metadata": {},
   "outputs": [
    {
     "data": {
      "text/plain": [
       "fraudulent\n",
       "0    17014\n",
       "1      866\n",
       "Name: count, dtype: int64"
      ]
     },
     "execution_count": 617,
     "metadata": {},
     "output_type": "execute_result"
    }
   ],
   "source": [
    "# Count the occurrences of 0 and 1 in the 'fraudulent' column\n",
    "fraudulent_counts = df['fraudulent'].value_counts()\n",
    "fraudulent_counts\n",
    "\n"
   ]
  },
  {
   "cell_type": "code",
   "execution_count": 618,
   "metadata": {},
   "outputs": [
    {
     "data": {
      "text/plain": [
       "<Axes: xlabel='fraudulent', ylabel='count'>"
      ]
     },
     "execution_count": 618,
     "metadata": {},
     "output_type": "execute_result"
    },
    {
     "data": {
      "image/png": "[encoded data removed]",
      "text/plain": [
       "<Figure size 640x480 with 1 Axes>"
      ]
     },
     "metadata": {},
     "output_type": "display_data"
    }
   ],
   "source": [
    "sns.countplot(x = \"fraudulent\" , data = df)"
   ]
  },
  {
   "cell_type": "code",
   "execution_count": 619,
   "metadata": {},
   "outputs": [
    {
     "data": {
      "image/png": "[encoded data removed]",
      "text/plain": [
       "<Figure size 640x480 with 1 Axes>"
      ]
     },
     "metadata": {},
     "output_type": "display_data"
    }
   ],
   "source": [
    "counts = df['fraudulent'].value_counts()\n",
    "plt.pie(counts, labels=counts.index, autopct='%1.1f%%', startangle=90)\n",
    "plt.show()"
   ]
  },
  {
   "cell_type": "markdown",
   "metadata": {},
   "source": [
    "## Handle Missing Values"
   ]
  },
  {
   "cell_type": "code",
   "execution_count": 620,
   "metadata": {},
   "outputs": [
    {
     "data": {
      "text/plain": [
       "salary_range           83.959732\n",
       "department             64.580537\n",
       "required_education     45.329978\n",
       "benefits               40.335570\n",
       "required_experience    39.429530\n",
       "function               36.101790\n",
       "industry               27.421700\n",
       "employment_type        19.412752\n",
       "company_profile        18.501119\n",
       "requirements           15.078300\n",
       "location                1.935123\n",
       "description             0.005593\n",
       "title                   0.000000\n",
       "telecommuting           0.000000\n",
       "has_questions           0.000000\n",
       "has_company_logo        0.000000\n",
       "fraudulent              0.000000\n",
       "dtype: float64"
      ]
     },
     "execution_count": 620,
     "metadata": {},
     "output_type": "execute_result"
    }
   ],
   "source": [
    "# Checking the percentage of nan values in each column:\n",
    "((df.isna().sum() / len(df)) * 100).sort_values(ascending=False)"
   ]
  },
  {
   "cell_type": "code",
   "execution_count": 621,
   "metadata": {},
   "outputs": [
    {
     "name": "stdout",
     "output_type": "stream",
     "text": [
      "<class 'pandas.core.frame.DataFrame'>\n",
      "Index: 17880 entries, 1 to 17880\n",
      "Data columns (total 15 columns):\n",
      " #   Column               Non-Null Count  Dtype \n",
      "---  ------               --------------  ----- \n",
      " 0   title                17880 non-null  object\n",
      " 1   location             17534 non-null  object\n",
      " 2   company_profile      14572 non-null  object\n",
      " 3   description          17879 non-null  object\n",
      " 4   requirements         15184 non-null  object\n",
      " 5   benefits             10668 non-null  object\n",
      " 6   telecommuting        17880 non-null  int64 \n",
      " 7   has_company_logo     17880 non-null  int64 \n",
      " 8   has_questions        17880 non-null  int64 \n",
      " 9   employment_type      14409 non-null  object\n",
      " 10  required_experience  10830 non-null  object\n",
      " 11  required_education   9775 non-null   object\n",
      " 12  industry             12977 non-null  object\n",
      " 13  function             11425 non-null  object\n",
      " 14  fraudulent           17880 non-null  int64 \n",
      "dtypes: int64(4), object(11)\n",
      "memory usage: 2.2+ MB\n"
     ]
    }
   ],
   "source": [
    "\n",
    "#Drop the columns salary_range and department\n",
    "df = df.drop(['salary_range','department'], axis=1)\n",
    "df.info()"
   ]
  },
  {
   "cell_type": "code",
   "execution_count": 622,
   "metadata": {},
   "outputs": [],
   "source": [
    "# drop rows with missing 'description'\n",
    "df.dropna(subset=['description'], inplace=True)"
   ]
  },
  {
   "cell_type": "markdown",
   "metadata": {},
   "source": [
    "## Define data types"
   ]
  },
  {
   "cell_type": "code",
   "execution_count": 623,
   "metadata": {},
   "outputs": [
    {
     "data": {
      "text/plain": [
       "telecommuting              2\n",
       "has_company_logo           2\n",
       "fraudulent                 2\n",
       "has_questions              2\n",
       "employment_type            5\n",
       "required_experience        7\n",
       "required_education        13\n",
       "function                  37\n",
       "industry                 131\n",
       "company_profile         1709\n",
       "location                3105\n",
       "benefits                6204\n",
       "title                  11231\n",
       "requirements           11967\n",
       "description            14801\n",
       "dtype: int64"
      ]
     },
     "execution_count": 623,
     "metadata": {},
     "output_type": "execute_result"
    }
   ],
   "source": [
    "df.nunique().sort_values()"
   ]
  },
  {
   "cell_type": "code",
   "execution_count": 624,
   "metadata": {},
   "outputs": [
    {
     "data": {
      "text/html": [
       "<div>\n",
       "<style scoped>\n",
       "    .dataframe tbody tr th:only-of-type {\n",
       "        vertical-align: middle;\n",
       "    }\n",
       "\n",
       "    .dataframe tbody tr th {\n",
       "        vertical-align: top;\n",
       "    }\n",
       "\n",
       "    .dataframe thead th {\n",
       "        text-align: right;\n",
       "    }\n",
       "</style>\n",
       "<table border=\"1\" class=\"dataframe\">\n",
       "  <thead>\n",
       "    <tr style=\"text-align: right;\">\n",
       "      <th></th>\n",
       "      <th>0</th>\n",
       "    </tr>\n",
       "    <tr>\n",
       "      <th>benefits</th>\n",
       "      <th></th>\n",
       "    </tr>\n",
       "  </thead>\n",
       "  <tbody>\n",
       "    <tr>\n",
       "      <th>See job description</th>\n",
       "      <td>726</td>\n",
       "    </tr>\n",
       "    <tr>\n",
       "      <th>Career prospects.</th>\n",
       "      <td>158</td>\n",
       "    </tr>\n",
       "    <tr>\n",
       "      <th>CSD offers a competitive benefits package for full-time employees. For a full li</th>\n",
       "      <td>70</td>\n",
       "    </tr>\n",
       "    <tr>\n",
       "      <th>Our company offers a competitive salary plus BONUSES as well as a comprehensive</th>\n",
       "      <td>60</td>\n",
       "    </tr>\n",
       "    <tr>\n",
       "      <th>Plenty of perksAs well as the opportunity to solve complex problems in this exci</th>\n",
       "      <td>58</td>\n",
       "    </tr>\n",
       "    <tr>\n",
       "      <th>...</th>\n",
       "      <td>...</td>\n",
       "    </tr>\n",
       "    <tr>\n",
       "      <th>We offer: • Excellent training and development opportunities  • Excellent Pay Sc</th>\n",
       "      <td>1</td>\n",
       "    </tr>\n",
       "    <tr>\n",
       "      <th>Upon completion of training, each representative will trade firm capital and kee</th>\n",
       "      <td>1</td>\n",
       "    </tr>\n",
       "    <tr>\n",
       "      <th>The salary package is $50-$70 K p.a. plus super and incentives.</th>\n",
       "      <td>1</td>\n",
       "    </tr>\n",
       "    <tr>\n",
       "      <th>Free To Join.</th>\n",
       "      <td>1</td>\n",
       "    </tr>\n",
       "    <tr>\n",
       "      <th>will explain on phone interview</th>\n",
       "      <td>1</td>\n",
       "    </tr>\n",
       "  </tbody>\n",
       "</table>\n",
       "<p>6204 rows × 1 columns</p>\n",
       "</div>"
      ],
      "text/plain": [
       "                                                      0\n",
       "benefits                                               \n",
       "See job description                                 726\n",
       "Career prospects.                                   158\n",
       "CSD offers a competitive benefits package for f...   70\n",
       "Our company offers a competitive salary plus BO...   60\n",
       "Plenty of perksAs well as the opportunity to so...   58\n",
       "...                                                 ...\n",
       "We offer: • Excellent training and development ...    1\n",
       "Upon completion of training, each representativ...    1\n",
       "The salary package is $50-$70 K p.a. plus super...    1\n",
       "Free To Join.                                         1\n",
       "will explain on phone interview                       1\n",
       "\n",
       "[6204 rows x 1 columns]"
      ]
     },
     "execution_count": 624,
     "metadata": {},
     "output_type": "execute_result"
    }
   ],
   "source": [
    "data = df['benefits'].value_counts()\n",
    "\n",
    "\n",
    "# Display Series with index stripped to 80 characters\n",
    "padded_index = data.index.to_series().str.slice(0,80)\n",
    "display_df = pd.DataFrame(data.values, index=padded_index)\n",
    "display_df"
   ]
  },
  {
   "cell_type": "code",
   "execution_count": 625,
   "metadata": {},
   "outputs": [],
   "source": [
    "ordinal = [\n",
    "    'required_experience',\n",
    "    'required_education',\n",
    "    'employment_type'\n",
    "] # Ordinal/Label Encoder\n",
    "\n",
    "binary = ['telecommuting','has_company_logo','has_questions','fraudulent']\n",
    "\n",
    "nominal = ['function','industry','location','benefits'] # One-hot encoder / Target Encoder\n",
    "\n",
    "\n",
    "text    = [\n",
    "    'description',\n",
    "    'company_profile',\n",
    "    'title',\n",
    "    'requirements'\n",
    "] # TF-IDF"
   ]
  },
  {
   "cell_type": "code",
   "execution_count": 626,
   "metadata": {},
   "outputs": [
    {
     "name": "stdout",
     "output_type": "stream",
     "text": [
      "['telecommuting', 'has_company_logo', 'has_questions', 'fraudulent']\n"
     ]
    }
   ],
   "source": [
    "#get numerical columns:\n",
    "numerical_colums = df.select_dtypes(include=['number']).columns.tolist()\n",
    "print(numerical_colums)"
   ]
  },
  {
   "cell_type": "code",
   "execution_count": 627,
   "metadata": {},
   "outputs": [
    {
     "data": {
      "image/png": "[encoded data removed]",
      "text/plain": [
       "<Figure size 600x400 with 2 Axes>"
      ]
     },
     "metadata": {},
     "output_type": "display_data"
    }
   ],
   "source": [
    "correlation = df[numerical_colums].corr()\n",
    "plt.figure(figsize=(6, 4))\n",
    "sns.heatmap(correlation, annot=True, cmap='coolwarm',fmt='.2f')\n",
    "plt.title('Correlation Heatmap')\n",
    "plt.show()"
   ]
  },
  {
   "cell_type": "markdown",
   "metadata": {},
   "source": [
    "## Impute missing values"
   ]
  },
  {
   "cell_type": "code",
   "execution_count": 628,
   "metadata": {},
   "outputs": [
    {
     "data": {
      "text/plain": [
       "['location',\n",
       " 'company_profile',\n",
       " 'requirements',\n",
       " 'benefits',\n",
       " 'employment_type',\n",
       " 'required_experience',\n",
       " 'required_education',\n",
       " 'industry',\n",
       " 'function']"
      ]
     },
     "execution_count": 628,
     "metadata": {},
     "output_type": "execute_result"
    }
   ],
   "source": [
    "# Get list of columns with missing values\n",
    "missing_values_columns = df.columns[df.isna().sum() != 0].tolist()\n",
    "missing_values_columns"
   ]
  },
  {
   "cell_type": "code",
   "execution_count": 629,
   "metadata": {},
   "outputs": [],
   "source": [
    "# Impute categorical and text columns with placeholders\n",
    "placeholder_map = {\n",
    "    'location': 'Other',\n",
    "    'company_profile': 'Missing',\n",
    "    'requirements': 'Missing',\n",
    "    'benefits':'See job description', # mode\n",
    "    'employment_type':'Other',\n",
    "    'required_experience': 'Not Applicable',\n",
    "    'required_education':'Unspecified',\n",
    "    'industry':'Other',\n",
    "    'function': 'Other'\n",
    "}\n",
    "\n",
    "df.fillna(value=placeholder_map, inplace=True)"
   ]
  },
  {
   "cell_type": "code",
   "execution_count": 630,
   "metadata": {},
   "outputs": [
    {
     "data": {
      "text/plain": [
       "title                  0\n",
       "location               0\n",
       "company_profile        0\n",
       "description            0\n",
       "requirements           0\n",
       "benefits               0\n",
       "telecommuting          0\n",
       "has_company_logo       0\n",
       "has_questions          0\n",
       "employment_type        0\n",
       "required_experience    0\n",
       "required_education     0\n",
       "industry               0\n",
       "function               0\n",
       "fraudulent             0\n",
       "dtype: int64"
      ]
     },
     "execution_count": 630,
     "metadata": {},
     "output_type": "execute_result"
    }
   ],
   "source": [
    "df.isna().sum()"
   ]
  },
  {
   "cell_type": "markdown",
   "metadata": {},
   "source": [
    "## Encode Categorical Variables\n"
   ]
  },
  {
   "cell_type": "code",
   "execution_count": 631,
   "metadata": {},
   "outputs": [],
   "source": [
    "#Encode Ordinal columns using Label Encoding\n",
    "ordinal_encoder = LabelEncoder()\n",
    "for column in ordinal:\n",
    "    df[column] = ordinal_encoder.fit_transform(df[column])\n",
    "\n"
   ]
  },
  {
   "cell_type": "code",
   "execution_count": 632,
   "metadata": {},
   "outputs": [],
   "source": [
    "#Encode Nominal columns using Frequency Encoding\n",
    "def frequency_encode(df, nominal):\n",
    "    for column in nominal:\n",
    "        # Calculate frequency of each category\n",
    "        frequency = df[column].value_counts() / len(df)\n",
    "        # Map frequencies to the column\n",
    "        df[column] = df[column].map(frequency)\n",
    "    return df\n",
    "\n",
    "df = frequency_encode(df, nominal)\n",
    "\n"
   ]
  },
  {
   "cell_type": "markdown",
   "metadata": {},
   "source": [
    "## Select features"
   ]
  },
  {
   "cell_type": "code",
   "execution_count": 633,
   "metadata": {},
   "outputs": [],
   "source": [
    "# use all columns, except fraudulent\n",
    "X = df.drop(columns=['fraudulent'])\n",
    "y = df['fraudulent']\n"
   ]
  },
  {
   "cell_type": "markdown",
   "metadata": {},
   "source": [
    "## Text Data Cleaning:\n",
    "- Perform lemmatization text data."
   ]
  },
  {
   "cell_type": "code",
   "execution_count": 634,
   "metadata": {},
   "outputs": [
    {
     "name": "stderr",
     "output_type": "stream",
     "text": [
      "[nltk_data] Downloading package wordnet to\n",
      "[nltk_data]     C:\\Users\\lzy\\AppData\\Roaming\\nltk_data...\n",
      "[nltk_data]   Package wordnet is already up-to-date!\n",
      "[nltk_data] Downloading package omw-1.4 to\n",
      "[nltk_data]     C:\\Users\\lzy\\AppData\\Roaming\\nltk_data...\n",
      "[nltk_data]   Package omw-1.4 is already up-to-date!\n",
      "[nltk_data] Downloading package stopwords to\n",
      "[nltk_data]     C:\\Users\\lzy\\AppData\\Roaming\\nltk_data...\n",
      "[nltk_data]   Package stopwords is already up-to-date!\n"
     ]
    },
    {
     "data": {
      "text/plain": [
       "True"
      ]
     },
     "execution_count": 634,
     "metadata": {},
     "output_type": "execute_result"
    }
   ],
   "source": [
    "# Download required data if not already downloaded\n",
    "nltk.download('wordnet')\n",
    "nltk.download('omw-1.4')\n",
    "nltk.download('stopwords')"
   ]
  },
  {
   "cell_type": "code",
   "execution_count": 635,
   "metadata": {},
   "outputs": [],
   "source": [
    "\n",
    "# Create a lemmatizer and load stop words\n",
    "lemmatizer = WordNetLemmatizer()\n",
    "stop_words = set(stopwords.words('english'))\n",
    "\n",
    "\n",
    "# Define a function to lemmatize a column\n",
    "def lemmatize_column(column):\n",
    "    if column.dtype != 'object':\n",
    "        return column\n",
    "    else:\n",
    "        lemmas = []\n",
    "        for token in column:\n",
    "            if pd.notnull(token):\n",
    "                # Remove punctuation\n",
    "                text = ''.join(char for char in token if char not in string.punctuation)\n",
    "                # Convert to lowercase\n",
    "                text = text.lower()\n",
    "                # Split into tokens\n",
    "                tokens = token.split()\n",
    "                # Remove stop words\n",
    "                filtered_tokens = [token for token in tokens if token not in stop_words]\n",
    "                # Lemmatize tokens\n",
    "                lemmas.append(' '.join([lemmatizer.lemmatize(token) for token in filtered_tokens]))\n",
    "            else:\n",
    "                lemmas.append(None)\n",
    "        return pd.Series(lemmas)\n",
    "    \n",
    "    # Not in use\n",
    "    "
   ]
  },
  {
   "cell_type": "code",
   "execution_count": 636,
   "metadata": {},
   "outputs": [],
   "source": [
    "# Simpler text preprocessing function\n",
    "def clean_text(text):\n",
    "    if isinstance(text, str):\n",
    "        text = re.sub(r'[^a-zA-Z0-9_\\s]', '', text)\n",
    "        text = text.lower()\n",
    "        text = text.strip()\n",
    "    return text"
   ]
  },
  {
   "cell_type": "code",
   "execution_count": 637,
   "metadata": {},
   "outputs": [
    {
     "data": {
      "text/plain": [
       "['description', 'company_profile', 'title', 'requirements']"
      ]
     },
     "execution_count": 637,
     "metadata": {},
     "output_type": "execute_result"
    }
   ],
   "source": [
    "text"
   ]
  },
  {
   "cell_type": "code",
   "execution_count": 638,
   "metadata": {},
   "outputs": [],
   "source": [
    "\n",
    "for column in text:\n",
    "    X[column] = X[column].apply(clean_text)\n",
    "    "
   ]
  },
  {
   "cell_type": "code",
   "execution_count": 639,
   "metadata": {},
   "outputs": [
    {
     "name": "stdout",
     "output_type": "stream",
     "text": [
      "<class 'pandas.core.frame.DataFrame'>\n",
      "Index: 17879 entries, 1 to 17880\n",
      "Data columns (total 14 columns):\n",
      " #   Column               Non-Null Count  Dtype  \n",
      "---  ------               --------------  -----  \n",
      " 0   title                17879 non-null  object \n",
      " 1   location             17879 non-null  float64\n",
      " 2   company_profile      17879 non-null  object \n",
      " 3   description          17879 non-null  object \n",
      " 4   requirements         17879 non-null  object \n",
      " 5   benefits             17879 non-null  float64\n",
      " 6   telecommuting        17879 non-null  int64  \n",
      " 7   has_company_logo     17879 non-null  int64  \n",
      " 8   has_questions        17879 non-null  int64  \n",
      " 9   employment_type      17879 non-null  int64  \n",
      " 10  required_experience  17879 non-null  int64  \n",
      " 11  required_education   17879 non-null  int64  \n",
      " 12  industry             17879 non-null  float64\n",
      " 13  function             17879 non-null  float64\n",
      "dtypes: float64(4), int64(6), object(4)\n",
      "memory usage: 2.0+ MB\n"
     ]
    }
   ],
   "source": [
    "X.info()"
   ]
  },
  {
   "cell_type": "markdown",
   "metadata": {},
   "source": [
    "### Split the data"
   ]
  },
  {
   "cell_type": "code",
   "execution_count": 640,
   "metadata": {},
   "outputs": [],
   "source": [
    "# Split the data\n",
    "X_train, X_test, y_train, y_test = train_test_split(X, y, test_size=0.2, random_state=42, stratify=y)"
   ]
  },
  {
   "cell_type": "markdown",
   "metadata": {},
   "source": [
    "### TF-IDF vectorization"
   ]
  },
  {
   "cell_type": "code",
   "execution_count": 641,
   "metadata": {},
   "outputs": [
    {
     "name": "stdout",
     "output_type": "stream",
     "text": [
      "{'description': TfidfVectorizer(max_df=0.8, min_df=5, ngram_range=(1, 2), stop_words='english'), 'company_profile': TfidfVectorizer(max_df=0.8, min_df=5, ngram_range=(1, 2), stop_words='english'), 'title': TfidfVectorizer(max_df=0.8, min_df=5, ngram_range=(1, 2), stop_words='english'), 'requirements': TfidfVectorizer(max_df=0.8, min_df=5, ngram_range=(1, 2), stop_words='english')}\n"
     ]
    }
   ],
   "source": [
    "# Define the TF-IDF vectorization function\n",
    "@memory.cache                                                         # can I/ how to/ use this in another file(question for user_interface implementation\n",
    "def fit_and_transform_tfidf(X_train_raw, X_test_raw, features):                                               # for the vectorizers)\n",
    "    # Initialize vectorizers for each text feature\n",
    "    vectorizers = {\n",
    "        feature: TfidfVectorizer(stop_words='english', min_df=5, max_df=0.8, ngram_range=(1, 2))\n",
    "        for feature in features\n",
    "    }\n",
    "\n",
    "    # List to store TF-IDF matrices\n",
    "    tfidf_matrices_train = []\n",
    "    tfidf_matrices_test = []\n",
    "\n",
    "    # Loop through features to fit and transform\n",
    "    for feature in features:\n",
    "        # Fit on training data and transform both train and test data\n",
    "        vectorizers[feature].fit(X_train_raw[feature])\n",
    "        tfidf_matrix_train = vectorizers[feature].transform(X_train_raw[feature])\n",
    "        tfidf_matrix_test = vectorizers[feature].transform(X_test_raw[feature])\n",
    "\n",
    "        tfidf_matrices_train.append(tfidf_matrix_train)\n",
    "        tfidf_matrices_test.append(tfidf_matrix_test)\n",
    "\n",
    "    \n",
    "    \n",
    "    # Combine all TF-IDF matrices into one\n",
    "    X_train = hstack(tfidf_matrices_train)\n",
    "    X_test = hstack(tfidf_matrices_test)\n",
    "\n",
    "    return X_train, X_test\n",
    "\n",
    "# List of features to vectorize\n",
    "features = ['description', 'requirements', 'benefits'] # ?benefits instead of title in 'text' variable (I dont understand)\n",
    "\n",
    "# Fit and transform the TF-IDF vectors (this will be cached)\n",
    "X_train, X_test = fit_and_transform_tfidf(X_train, X_test, text) # does this add or replace the X_train and X_test, if it does are we using\n",
    "                                                                 # the rest of the features? \n",
    "                                                                 # if its 'features' variable as parameter it gives me an error"
   ]
  },
  {
   "cell_type": "code",
   "execution_count": 642,
   "metadata": {},
   "outputs": [
    {
     "data": {
      "text/plain": [
       "fraudulent\n",
       "0    95.161854\n",
       "1     4.838146\n",
       "Name: count, dtype: float64"
      ]
     },
     "execution_count": 642,
     "metadata": {},
     "output_type": "execute_result"
    }
   ],
   "source": [
    "# check for imbalaced dataset - calculate percentages:\n",
    "y_train_counts = y_train.value_counts()\n",
    "percentages = (y_train_counts/y_train_counts.sum())*100\n",
    "percentages"
   ]
  },
  {
   "cell_type": "markdown",
   "metadata": {},
   "source": [
    "### Oversampling because the dataset is imbalanced"
   ]
  },
  {
   "cell_type": "code",
   "execution_count": 643,
   "metadata": {},
   "outputs": [
    {
     "name": "stdout",
     "output_type": "stream",
     "text": [
      "(27222, 137613)\n",
      "(27222,)\n"
     ]
    }
   ],
   "source": [
    "# Creating an instance of SMOTE\n",
    "smote = SMOTE()\n",
    "\n",
    "# Balancing the data\n",
    "X_resampled, y_resampled = smote.fit_resample(X_train, y_train)\n",
    "\n",
    "print(X_resampled.shape)\n",
    "print(y_resampled.shape)"
   ]
  },
  {
   "cell_type": "code",
   "execution_count": 644,
   "metadata": {},
   "outputs": [
    {
     "data": {
      "text/plain": [
       "fraudulent\n",
       "0    50.0\n",
       "1    50.0\n",
       "Name: count, dtype: float64"
      ]
     },
     "execution_count": 644,
     "metadata": {},
     "output_type": "execute_result"
    }
   ],
   "source": [
    "# check for imbalaced dataset - calculate percentages:\n",
    "y_resampled_counts = y_resampled.value_counts()\n",
    "percentages = (y_resampled_counts/y_resampled_counts.sum())*100\n",
    "percentages"
   ]
  },
  {
   "cell_type": "markdown",
   "metadata": {},
   "source": [
    "## Save the dataset"
   ]
  },
  {
   "cell_type": "code",
   "execution_count": 645,
   "metadata": {},
   "outputs": [],
   "source": [
    "\n",
    "# Save the sparse matrix\n",
    "save_npz('../data/processed/X_resampled.npz', X_resampled)\n",
    "\n",
    "# Save y_resampled as a Series (you can also use Series)\n",
    "pd.Series(y_resampled).to_csv('../data/processed/y_resampled.csv', index=False)\n",
    "\n",
    "# Save X_test as a sparse matrix (you can also use Series)\n",
    "save_npz('../data/processed/X_test.npz', X_test)\n",
    "\n",
    "# Save y_test as a Series (you can also use Series)\n",
    "pd.Series(y_test).to_csv('../data/processed/y_test.csv', index=False)\n"
   ]
  }
 ],
 "metadata": {
  "kernelspec": {
   "display_name": ".venv",
   "language": "python",
   "name": "python3"
  },
  "language_info": {
   "codemirror_mode": {
    "name": "ipython",
    "version": 3
   },
   "file_extension": ".py",
   "mimetype": "text/x-python",
   "name": "python",
   "nbconvert_exporter": "python",
   "pygments_lexer": "ipython3",
   "version": "3.12.2"
  }
 },
 "nbformat": 4,
 "nbformat_minor": 2
}
