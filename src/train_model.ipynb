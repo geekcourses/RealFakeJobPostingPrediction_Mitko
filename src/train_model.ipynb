{
 "cells": [
  {
   "cell_type": "code",
   "execution_count": 1,
   "metadata": {},
   "outputs": [],
   "source": [
    "import numpy as np\n",
    "import pandas as pd\n",
    "import matplotlib.pyplot as plt\n",
    "import seaborn as sns\n",
    "\n",
    "from sklearn.model_selection import train_test_split\n",
    "from sklearn.feature_extraction.text import TfidfVectorizer\n",
    "from sklearn.naive_bayes import BernoulliNB\n",
    "from sklearn.metrics import accuracy_score, classification_report\n",
    "from sklearn.metrics import ConfusionMatrixDisplay\n",
    "from sklearn.metrics import confusion_matrix\n",
    "from imblearn.under_sampling import RandomUnderSampler\n",
    "from imblearn.over_sampling import SMOTE\n",
    "\n",
    "from sklearn.model_selection import GridSearchCV\n",
    "\n",
    "from sklearn.model_selection import cross_val_score\n",
    "import joblib"
   ]
  },
  {
   "cell_type": "code",
   "execution_count": 2,
   "metadata": {},
   "outputs": [],
   "source": [
    "# Set up memory caching\n",
    "memory = joblib.Memory('./cachedir', verbose=0)"
   ]
  },
  {
   "cell_type": "markdown",
   "metadata": {},
   "source": [
    "## Given:\n",
    "### [Real or Fake] : Fake Job Description Prediction\n",
    "### This dataset contains 18K job descriptions out of which about 800 are fake. The data consists of both textual information and meta-information about the jobs. The dataset can be used to create classification models which can learn the job descriptions which are fraudulent."
   ]
  },
  {
   "cell_type": "markdown",
   "metadata": {},
   "source": [
    "## Goal:\n",
    "### 1. Create a classification model that uses text data features and meta-features and predict which job description are fraudulent or real."
   ]
  },
  {
   "cell_type": "markdown",
   "metadata": {},
   "source": [
    "## Load and Analyze the data:"
   ]
  },
  {
   "cell_type": "code",
   "execution_count": 3,
   "metadata": {},
   "outputs": [
    {
     "data": {
      "text/html": [
       "<div>\n",
       "<style scoped>\n",
       "    .dataframe tbody tr th:only-of-type {\n",
       "        vertical-align: middle;\n",
       "    }\n",
       "\n",
       "    .dataframe tbody tr th {\n",
       "        vertical-align: top;\n",
       "    }\n",
       "\n",
       "    .dataframe thead th {\n",
       "        text-align: right;\n",
       "    }\n",
       "</style>\n",
       "<table border=\"1\" class=\"dataframe\">\n",
       "  <thead>\n",
       "    <tr style=\"text-align: right;\">\n",
       "      <th></th>\n",
       "      <th>title</th>\n",
       "      <th>location</th>\n",
       "      <th>department</th>\n",
       "      <th>salary_range</th>\n",
       "      <th>company_profile</th>\n",
       "      <th>description</th>\n",
       "      <th>requirements</th>\n",
       "      <th>benefits</th>\n",
       "      <th>telecommuting</th>\n",
       "      <th>has_company_logo</th>\n",
       "      <th>has_questions</th>\n",
       "      <th>employment_type</th>\n",
       "      <th>required_experience</th>\n",
       "      <th>required_education</th>\n",
       "      <th>industry</th>\n",
       "      <th>function</th>\n",
       "      <th>fraudulent</th>\n",
       "    </tr>\n",
       "    <tr>\n",
       "      <th>job_id</th>\n",
       "      <th></th>\n",
       "      <th></th>\n",
       "      <th></th>\n",
       "      <th></th>\n",
       "      <th></th>\n",
       "      <th></th>\n",
       "      <th></th>\n",
       "      <th></th>\n",
       "      <th></th>\n",
       "      <th></th>\n",
       "      <th></th>\n",
       "      <th></th>\n",
       "      <th></th>\n",
       "      <th></th>\n",
       "      <th></th>\n",
       "      <th></th>\n",
       "      <th></th>\n",
       "    </tr>\n",
       "  </thead>\n",
       "  <tbody>\n",
       "    <tr>\n",
       "      <th>1</th>\n",
       "      <td>Marketing Intern</td>\n",
       "      <td>US, NY, New York</td>\n",
       "      <td>Marketing</td>\n",
       "      <td>NaN</td>\n",
       "      <td>We're Food52, and we've created a groundbreaki...</td>\n",
       "      <td>Food52, a fast-growing, James Beard Award-winn...</td>\n",
       "      <td>Experience with content management systems a m...</td>\n",
       "      <td>NaN</td>\n",
       "      <td>0</td>\n",
       "      <td>1</td>\n",
       "      <td>0</td>\n",
       "      <td>Other</td>\n",
       "      <td>Internship</td>\n",
       "      <td>NaN</td>\n",
       "      <td>NaN</td>\n",
       "      <td>Marketing</td>\n",
       "      <td>0</td>\n",
       "    </tr>\n",
       "    <tr>\n",
       "      <th>2</th>\n",
       "      <td>Customer Service - Cloud Video Production</td>\n",
       "      <td>NZ, , Auckland</td>\n",
       "      <td>Success</td>\n",
       "      <td>NaN</td>\n",
       "      <td>90 Seconds, the worlds Cloud Video Production ...</td>\n",
       "      <td>Organised - Focused - Vibrant - Awesome!Do you...</td>\n",
       "      <td>What we expect from you:Your key responsibilit...</td>\n",
       "      <td>What you will get from usThrough being part of...</td>\n",
       "      <td>0</td>\n",
       "      <td>1</td>\n",
       "      <td>0</td>\n",
       "      <td>Full-time</td>\n",
       "      <td>Not Applicable</td>\n",
       "      <td>NaN</td>\n",
       "      <td>Marketing and Advertising</td>\n",
       "      <td>Customer Service</td>\n",
       "      <td>0</td>\n",
       "    </tr>\n",
       "    <tr>\n",
       "      <th>3</th>\n",
       "      <td>Commissioning Machinery Assistant (CMA)</td>\n",
       "      <td>US, IA, Wever</td>\n",
       "      <td>NaN</td>\n",
       "      <td>NaN</td>\n",
       "      <td>Valor Services provides Workforce Solutions th...</td>\n",
       "      <td>Our client, located in Houston, is actively se...</td>\n",
       "      <td>Implement pre-commissioning and commissioning ...</td>\n",
       "      <td>NaN</td>\n",
       "      <td>0</td>\n",
       "      <td>1</td>\n",
       "      <td>0</td>\n",
       "      <td>NaN</td>\n",
       "      <td>NaN</td>\n",
       "      <td>NaN</td>\n",
       "      <td>NaN</td>\n",
       "      <td>NaN</td>\n",
       "      <td>0</td>\n",
       "    </tr>\n",
       "    <tr>\n",
       "      <th>4</th>\n",
       "      <td>Account Executive - Washington DC</td>\n",
       "      <td>US, DC, Washington</td>\n",
       "      <td>Sales</td>\n",
       "      <td>NaN</td>\n",
       "      <td>Our passion for improving quality of life thro...</td>\n",
       "      <td>THE COMPANY: ESRI – Environmental Systems Rese...</td>\n",
       "      <td>EDUCATION: Bachelor’s or Master’s in GIS, busi...</td>\n",
       "      <td>Our culture is anything but corporate—we have ...</td>\n",
       "      <td>0</td>\n",
       "      <td>1</td>\n",
       "      <td>0</td>\n",
       "      <td>Full-time</td>\n",
       "      <td>Mid-Senior level</td>\n",
       "      <td>Bachelor's Degree</td>\n",
       "      <td>Computer Software</td>\n",
       "      <td>Sales</td>\n",
       "      <td>0</td>\n",
       "    </tr>\n",
       "    <tr>\n",
       "      <th>5</th>\n",
       "      <td>Bill Review Manager</td>\n",
       "      <td>US, FL, Fort Worth</td>\n",
       "      <td>NaN</td>\n",
       "      <td>NaN</td>\n",
       "      <td>SpotSource Solutions LLC is a Global Human Cap...</td>\n",
       "      <td>JOB TITLE: Itemization Review ManagerLOCATION:...</td>\n",
       "      <td>QUALIFICATIONS:RN license in the State of Texa...</td>\n",
       "      <td>Full Benefits Offered</td>\n",
       "      <td>0</td>\n",
       "      <td>1</td>\n",
       "      <td>1</td>\n",
       "      <td>Full-time</td>\n",
       "      <td>Mid-Senior level</td>\n",
       "      <td>Bachelor's Degree</td>\n",
       "      <td>Hospital &amp; Health Care</td>\n",
       "      <td>Health Care Provider</td>\n",
       "      <td>0</td>\n",
       "    </tr>\n",
       "  </tbody>\n",
       "</table>\n",
       "</div>"
      ],
      "text/plain": [
       "                                            title            location  \\\n",
       "job_id                                                                  \n",
       "1                                Marketing Intern    US, NY, New York   \n",
       "2       Customer Service - Cloud Video Production      NZ, , Auckland   \n",
       "3         Commissioning Machinery Assistant (CMA)       US, IA, Wever   \n",
       "4               Account Executive - Washington DC  US, DC, Washington   \n",
       "5                             Bill Review Manager  US, FL, Fort Worth   \n",
       "\n",
       "       department salary_range  \\\n",
       "job_id                           \n",
       "1       Marketing          NaN   \n",
       "2         Success          NaN   \n",
       "3             NaN          NaN   \n",
       "4           Sales          NaN   \n",
       "5             NaN          NaN   \n",
       "\n",
       "                                          company_profile  \\\n",
       "job_id                                                      \n",
       "1       We're Food52, and we've created a groundbreaki...   \n",
       "2       90 Seconds, the worlds Cloud Video Production ...   \n",
       "3       Valor Services provides Workforce Solutions th...   \n",
       "4       Our passion for improving quality of life thro...   \n",
       "5       SpotSource Solutions LLC is a Global Human Cap...   \n",
       "\n",
       "                                              description  \\\n",
       "job_id                                                      \n",
       "1       Food52, a fast-growing, James Beard Award-winn...   \n",
       "2       Organised - Focused - Vibrant - Awesome!Do you...   \n",
       "3       Our client, located in Houston, is actively se...   \n",
       "4       THE COMPANY: ESRI – Environmental Systems Rese...   \n",
       "5       JOB TITLE: Itemization Review ManagerLOCATION:...   \n",
       "\n",
       "                                             requirements  \\\n",
       "job_id                                                      \n",
       "1       Experience with content management systems a m...   \n",
       "2       What we expect from you:Your key responsibilit...   \n",
       "3       Implement pre-commissioning and commissioning ...   \n",
       "4       EDUCATION: Bachelor’s or Master’s in GIS, busi...   \n",
       "5       QUALIFICATIONS:RN license in the State of Texa...   \n",
       "\n",
       "                                                 benefits  telecommuting  \\\n",
       "job_id                                                                     \n",
       "1                                                     NaN              0   \n",
       "2       What you will get from usThrough being part of...              0   \n",
       "3                                                     NaN              0   \n",
       "4       Our culture is anything but corporate—we have ...              0   \n",
       "5                                   Full Benefits Offered              0   \n",
       "\n",
       "        has_company_logo  has_questions employment_type required_experience  \\\n",
       "job_id                                                                        \n",
       "1                      1              0           Other          Internship   \n",
       "2                      1              0       Full-time      Not Applicable   \n",
       "3                      1              0             NaN                 NaN   \n",
       "4                      1              0       Full-time    Mid-Senior level   \n",
       "5                      1              1       Full-time    Mid-Senior level   \n",
       "\n",
       "       required_education                   industry              function  \\\n",
       "job_id                                                                       \n",
       "1                     NaN                        NaN             Marketing   \n",
       "2                     NaN  Marketing and Advertising      Customer Service   \n",
       "3                     NaN                        NaN                   NaN   \n",
       "4       Bachelor's Degree          Computer Software                 Sales   \n",
       "5       Bachelor's Degree     Hospital & Health Care  Health Care Provider   \n",
       "\n",
       "        fraudulent  \n",
       "job_id              \n",
       "1                0  \n",
       "2                0  \n",
       "3                0  \n",
       "4                0  \n",
       "5                0  "
      ]
     },
     "execution_count": 3,
     "metadata": {},
     "output_type": "execute_result"
    }
   ],
   "source": [
    "df = pd.read_csv(\"../data/raw/fake_job_postings.csv\", index_col=0)\n",
    "df.head()"
   ]
  },
  {
   "cell_type": "code",
   "execution_count": 4,
   "metadata": {},
   "outputs": [
    {
     "name": "stdout",
     "output_type": "stream",
     "text": [
      "<class 'pandas.core.frame.DataFrame'>\n",
      "Index: 17880 entries, 1 to 17880\n",
      "Data columns (total 17 columns):\n",
      " #   Column               Non-Null Count  Dtype \n",
      "---  ------               --------------  ----- \n",
      " 0   title                17880 non-null  object\n",
      " 1   location             17534 non-null  object\n",
      " 2   department           6333 non-null   object\n",
      " 3   salary_range         2868 non-null   object\n",
      " 4   company_profile      14572 non-null  object\n",
      " 5   description          17879 non-null  object\n",
      " 6   requirements         15184 non-null  object\n",
      " 7   benefits             10668 non-null  object\n",
      " 8   telecommuting        17880 non-null  int64 \n",
      " 9   has_company_logo     17880 non-null  int64 \n",
      " 10  has_questions        17880 non-null  int64 \n",
      " 11  employment_type      14409 non-null  object\n",
      " 12  required_experience  10830 non-null  object\n",
      " 13  required_education   9775 non-null   object\n",
      " 14  industry             12977 non-null  object\n",
      " 15  function             11425 non-null  object\n",
      " 16  fraudulent           17880 non-null  int64 \n",
      "dtypes: int64(4), object(13)\n",
      "memory usage: 2.5+ MB\n"
     ]
    }
   ],
   "source": [
    "df.info()"
   ]
  },
  {
   "cell_type": "code",
   "execution_count": 5,
   "metadata": {},
   "outputs": [
    {
     "data": {
      "text/plain": [
       "title                      0\n",
       "has_questions              0\n",
       "has_company_logo           0\n",
       "telecommuting              0\n",
       "fraudulent                 0\n",
       "description                1\n",
       "location                 346\n",
       "requirements            2696\n",
       "company_profile         3308\n",
       "employment_type         3471\n",
       "industry                4903\n",
       "function                6455\n",
       "required_experience     7050\n",
       "benefits                7212\n",
       "required_education      8105\n",
       "department             11547\n",
       "salary_range           15012\n",
       "dtype: int64"
      ]
     },
     "execution_count": 5,
     "metadata": {},
     "output_type": "execute_result"
    }
   ],
   "source": [
    "df.isna().sum().sort_values()"
   ]
  },
  {
   "cell_type": "code",
   "execution_count": 6,
   "metadata": {},
   "outputs": [
    {
     "data": {
      "text/plain": [
       "(17880, 17)"
      ]
     },
     "execution_count": 6,
     "metadata": {},
     "output_type": "execute_result"
    }
   ],
   "source": [
    "df.shape"
   ]
  },
  {
   "cell_type": "code",
   "execution_count": 7,
   "metadata": {},
   "outputs": [
    {
     "data": {
      "text/plain": [
       "fraudulent\n",
       "0    95.1566\n",
       "1     4.8434\n",
       "Name: count, dtype: float64"
      ]
     },
     "execution_count": 7,
     "metadata": {},
     "output_type": "execute_result"
    }
   ],
   "source": [
    "# Count the occurrences of 0 and 1 in the 'fraudulent' column\n",
    "fraudulent_counts = df['fraudulent'].value_counts()\n",
    "fraudulent_counts/fraudulent_counts.sum() *100"
   ]
  },
  {
   "cell_type": "markdown",
   "metadata": {},
   "source": [
    "## Select features:\n"
   ]
  },
  {
   "cell_type": "code",
   "execution_count": 8,
   "metadata": {},
   "outputs": [
    {
     "name": "stdout",
     "output_type": "stream",
     "text": [
      "['telecommuting', 'has_company_logo', 'has_questions', 'fraudulent']\n"
     ]
    }
   ],
   "source": [
    "# get numerical data columns\n",
    "numerical_columns = df.select_dtypes(include=['number']).columns.tolist()\n",
    "\n",
    "print(numerical_columns)"
   ]
  },
  {
   "cell_type": "code",
   "execution_count": 9,
   "metadata": {},
   "outputs": [
    {
     "data": {
      "text/plain": [
       "Text(0.5, 1.0, 'Correlation Matrix')"
      ]
     },
     "execution_count": 9,
     "metadata": {},
     "output_type": "execute_result"
    },
    {
     "data": {
      "image/png": "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",
      "text/plain": [
       "<Figure size 600x400 with 2 Axes>"
      ]
     },
     "metadata": {},
     "output_type": "display_data"
    }
   ],
   "source": [
    "correlation_matrix = df[numerical_columns].corr()\n",
    "\n",
    "plt.figure(figsize=(6, 4))\n",
    "sns.heatmap(correlation_matrix, annot=True, cmap='coolwarm', fmt='.2f')\n",
    "plt.title('Correlation Matrix')\n"
   ]
  },
  {
   "cell_type": "code",
   "execution_count": 10,
   "metadata": {},
   "outputs": [
    {
     "name": "stdout",
     "output_type": "stream",
     "text": [
      "description    1\n",
      "fraudulent     0\n",
      "dtype: int64 null values\n",
      "description    0\n",
      "fraudulent     0\n",
      "dtype: int64 empty strings\n",
      "(17880, 2)\n"
     ]
    }
   ],
   "source": [
    "#how do i make correletion between string features and target\n",
    "description_df = df.copy()\n",
    "description_df = description_df[['description','fraudulent']]\n",
    "\n",
    "# Checking for null values and empty strings\n",
    "\n",
    "print(f\"{description_df.isna().sum()} null values\")\n",
    "print(f\"{(description_df == '').sum()} empty strings\")\n",
    "print(description_df.shape)"
   ]
  },
  {
   "cell_type": "code",
   "execution_count": 11,
   "metadata": {},
   "outputs": [
    {
     "name": "stdout",
     "output_type": "stream",
     "text": [
      "description    0\n",
      "fraudulent     0\n",
      "dtype: int64 null values\n"
     ]
    }
   ],
   "source": [
    "#removing null values\n",
    "\n",
    "description_df.dropna(subset=['description'], inplace=True)\n",
    "print(f\"{description_df.isna().sum()} null values\")\n"
   ]
  },
  {
   "cell_type": "markdown",
   "metadata": {},
   "source": [
    "## Save the dataset"
   ]
  },
  {
   "cell_type": "code",
   "execution_count": 12,
   "metadata": {},
   "outputs": [],
   "source": [
    "#save the dataset\n",
    "\n",
    "#description_df.to_csv(\"../data/processed/description_df.csv\")"
   ]
  },
  {
   "cell_type": "markdown",
   "metadata": {},
   "source": [
    "## Spliting the data into training and testing sets"
   ]
  },
  {
   "cell_type": "code",
   "execution_count": 13,
   "metadata": {},
   "outputs": [
    {
     "name": "stdout",
     "output_type": "stream",
     "text": [
      "(13409,)\n",
      "(13409,)\n",
      "(4470,)\n",
      "(4470,)\n"
     ]
    }
   ],
   "source": [
    "X_train, X_test, y_train, y_test = train_test_split(\n",
    "    description_df['description'],\n",
    "    description_df['fraudulent'],\n",
    "    random_state=42)\n",
    "\n",
    "\n",
    "\n",
    "print(X_train.shape)\n",
    "print(y_train.shape)\n",
    "print(X_test.shape)\n",
    "print(y_test.shape)\n",
    "#X_train.to_csv(\"../data/processed/X_train.csv\")"
   ]
  },
  {
   "cell_type": "markdown",
   "metadata": {},
   "source": [
    "## Converting text data into TF-IDF features"
   ]
  },
  {
   "cell_type": "code",
   "execution_count": 14,
   "metadata": {},
   "outputs": [
    {
     "name": "stdout",
     "output_type": "stream",
     "text": [
      "<class 'pandas.core.frame.DataFrame'>\n",
      "Index: 17880 entries, 1 to 17880\n",
      "Data columns (total 17 columns):\n",
      " #   Column               Non-Null Count  Dtype \n",
      "---  ------               --------------  ----- \n",
      " 0   title                17880 non-null  object\n",
      " 1   location             17534 non-null  object\n",
      " 2   department           6333 non-null   object\n",
      " 3   salary_range         2868 non-null   object\n",
      " 4   company_profile      14572 non-null  object\n",
      " 5   description          17879 non-null  object\n",
      " 6   requirements         15184 non-null  object\n",
      " 7   benefits             10668 non-null  object\n",
      " 8   telecommuting        17880 non-null  int64 \n",
      " 9   has_company_logo     17880 non-null  int64 \n",
      " 10  has_questions        17880 non-null  int64 \n",
      " 11  employment_type      14409 non-null  object\n",
      " 12  required_experience  10830 non-null  object\n",
      " 13  required_education   9775 non-null   object\n",
      " 14  industry             12977 non-null  object\n",
      " 15  function             11425 non-null  object\n",
      " 16  fraudulent           17880 non-null  int64 \n",
      "dtypes: int64(4), object(13)\n",
      "memory usage: 2.5+ MB\n"
     ]
    }
   ],
   "source": [
    "df.info()"
   ]
  },
  {
   "cell_type": "code",
   "execution_count": 15,
   "metadata": {},
   "outputs": [
    {
     "name": "stderr",
     "output_type": "stream",
     "text": [
      "/media/nemsys/data/projects/courses/netIT/ML_SA/CourseProjects/RealFakeJobPostingPrediction_Mitko/.venv/lib/python3.12/site-packages/joblib/_store_backends.py:215: CacheWarning: Unable to cache to disk. Possibly a race condition in the creation of the directory. Exception: [Errno 28] No space left on device.\n",
      "  warnings.warn(\n"
     ]
    }
   ],
   "source": [
    "# TF-IDF transformer is fitted only on the training data\n",
    "@memory.cache\n",
    "def tf_idf_vectorization(X_train, X_test):\n",
    "    vectorizer = TfidfVectorizer(stop_words='english', ngram_range=(1, 2))\n",
    "    vectorizer.fit(X_train)\n",
    "\n",
    "    # Transform the text data into TF-IDF vectors\n",
    "    X_train = vectorizer.transform(X_train)\n",
    "    X_test = vectorizer.transform(X_test)\n",
    "\n",
    "    # When i try to add another feature i get (2,2) shape\n",
    "    # one way to get around this is by combining all of the string features in one column and then vectorize them\n",
    "\n",
    "    return X_train, X_test, vectorizer\n",
    "\n",
    "\n",
    "X_train_vect, X_test_vect, vectorizer = tf_idf_vectorization(X_train, X_test)\n"
   ]
  },
  {
   "cell_type": "code",
   "execution_count": 16,
   "metadata": {},
   "outputs": [
    {
     "name": "stdout",
     "output_type": "stream",
     "text": [
      "(13409, 571298)\n",
      "(4470, 571298)\n"
     ]
    }
   ],
   "source": [
    "print(X_train_vect.shape)\n",
    "print(X_test_vect.shape)\n"
   ]
  },
  {
   "cell_type": "markdown",
   "metadata": {},
   "source": [
    "## Oversampling because the dataset is imbalanced"
   ]
  },
  {
   "cell_type": "code",
   "execution_count": 17,
   "metadata": {},
   "outputs": [
    {
     "name": "stdout",
     "output_type": "stream",
     "text": [
      "(25520, 571298)\n",
      "(25520,)\n"
     ]
    }
   ],
   "source": [
    "# Creating an instance of SMOTE\n",
    "smote = SMOTE()\n",
    "\n",
    "# Balancing the data\n",
    "X_resampled, y_resampled = smote.fit_resample(X_train_vect, y_train)\n",
    "\n",
    "print(X_resampled.shape)\n",
    "print(y_resampled.shape)"
   ]
  },
  {
   "cell_type": "code",
   "execution_count": 18,
   "metadata": {},
   "outputs": [
    {
     "data": {
      "text/plain": [
       "fraudulent\n",
       "0    12760\n",
       "1    12760\n",
       "Name: count, dtype: int64"
      ]
     },
     "execution_count": 18,
     "metadata": {},
     "output_type": "execute_result"
    }
   ],
   "source": [
    "y_resampled.value_counts()"
   ]
  },
  {
   "cell_type": "markdown",
   "metadata": {},
   "source": [
    "## Train the model with GridSearchCV"
   ]
  },
  {
   "cell_type": "code",
   "execution_count": 19,
   "metadata": {},
   "outputs": [
    {
     "data": {
      "text/html": [
       "<style>#sk-container-id-1 {\n",
       "  /* Definition of color scheme common for light and dark mode */\n",
       "  --sklearn-color-text: black;\n",
       "  --sklearn-color-line: gray;\n",
       "  /* Definition of color scheme for unfitted estimators */\n",
       "  --sklearn-color-unfitted-level-0: #fff5e6;\n",
       "  --sklearn-color-unfitted-level-1: #f6e4d2;\n",
       "  --sklearn-color-unfitted-level-2: #ffe0b3;\n",
       "  --sklearn-color-unfitted-level-3: chocolate;\n",
       "  /* Definition of color scheme for fitted estimators */\n",
       "  --sklearn-color-fitted-level-0: #f0f8ff;\n",
       "  --sklearn-color-fitted-level-1: #d4ebff;\n",
       "  --sklearn-color-fitted-level-2: #b3dbfd;\n",
       "  --sklearn-color-fitted-level-3: cornflowerblue;\n",
       "\n",
       "  /* Specific color for light theme */\n",
       "  --sklearn-color-text-on-default-background: var(--sg-text-color, var(--theme-code-foreground, var(--jp-content-font-color1, black)));\n",
       "  --sklearn-color-background: var(--sg-background-color, var(--theme-background, var(--jp-layout-color0, white)));\n",
       "  --sklearn-color-border-box: var(--sg-text-color, var(--theme-code-foreground, var(--jp-content-font-color1, black)));\n",
       "  --sklearn-color-icon: #696969;\n",
       "\n",
       "  @media (prefers-color-scheme: dark) {\n",
       "    /* Redefinition of color scheme for dark theme */\n",
       "    --sklearn-color-text-on-default-background: var(--sg-text-color, var(--theme-code-foreground, var(--jp-content-font-color1, white)));\n",
       "    --sklearn-color-background: var(--sg-background-color, var(--theme-background, var(--jp-layout-color0, #111)));\n",
       "    --sklearn-color-border-box: var(--sg-text-color, var(--theme-code-foreground, var(--jp-content-font-color1, white)));\n",
       "    --sklearn-color-icon: #878787;\n",
       "  }\n",
       "}\n",
       "\n",
       "#sk-container-id-1 {\n",
       "  color: var(--sklearn-color-text);\n",
       "}\n",
       "\n",
       "#sk-container-id-1 pre {\n",
       "  padding: 0;\n",
       "}\n",
       "\n",
       "#sk-container-id-1 input.sk-hidden--visually {\n",
       "  border: 0;\n",
       "  clip: rect(1px 1px 1px 1px);\n",
       "  clip: rect(1px, 1px, 1px, 1px);\n",
       "  height: 1px;\n",
       "  margin: -1px;\n",
       "  overflow: hidden;\n",
       "  padding: 0;\n",
       "  position: absolute;\n",
       "  width: 1px;\n",
       "}\n",
       "\n",
       "#sk-container-id-1 div.sk-dashed-wrapped {\n",
       "  border: 1px dashed var(--sklearn-color-line);\n",
       "  margin: 0 0.4em 0.5em 0.4em;\n",
       "  box-sizing: border-box;\n",
       "  padding-bottom: 0.4em;\n",
       "  background-color: var(--sklearn-color-background);\n",
       "}\n",
       "\n",
       "#sk-container-id-1 div.sk-container {\n",
       "  /* jupyter's `normalize.less` sets `[hidden] { display: none; }`\n",
       "     but bootstrap.min.css set `[hidden] { display: none !important; }`\n",
       "     so we also need the `!important` here to be able to override the\n",
       "     default hidden behavior on the sphinx rendered scikit-learn.org.\n",
       "     See: https://github.com/scikit-learn/scikit-learn/issues/21755 */\n",
       "  display: inline-block !important;\n",
       "  position: relative;\n",
       "}\n",
       "\n",
       "#sk-container-id-1 div.sk-text-repr-fallback {\n",
       "  display: none;\n",
       "}\n",
       "\n",
       "div.sk-parallel-item,\n",
       "div.sk-serial,\n",
       "div.sk-item {\n",
       "  /* draw centered vertical line to link estimators */\n",
       "  background-image: linear-gradient(var(--sklearn-color-text-on-default-background), var(--sklearn-color-text-on-default-background));\n",
       "  background-size: 2px 100%;\n",
       "  background-repeat: no-repeat;\n",
       "  background-position: center center;\n",
       "}\n",
       "\n",
       "/* Parallel-specific style estimator block */\n",
       "\n",
       "#sk-container-id-1 div.sk-parallel-item::after {\n",
       "  content: \"\";\n",
       "  width: 100%;\n",
       "  border-bottom: 2px solid var(--sklearn-color-text-on-default-background);\n",
       "  flex-grow: 1;\n",
       "}\n",
       "\n",
       "#sk-container-id-1 div.sk-parallel {\n",
       "  display: flex;\n",
       "  align-items: stretch;\n",
       "  justify-content: center;\n",
       "  background-color: var(--sklearn-color-background);\n",
       "  position: relative;\n",
       "}\n",
       "\n",
       "#sk-container-id-1 div.sk-parallel-item {\n",
       "  display: flex;\n",
       "  flex-direction: column;\n",
       "}\n",
       "\n",
       "#sk-container-id-1 div.sk-parallel-item:first-child::after {\n",
       "  align-self: flex-end;\n",
       "  width: 50%;\n",
       "}\n",
       "\n",
       "#sk-container-id-1 div.sk-parallel-item:last-child::after {\n",
       "  align-self: flex-start;\n",
       "  width: 50%;\n",
       "}\n",
       "\n",
       "#sk-container-id-1 div.sk-parallel-item:only-child::after {\n",
       "  width: 0;\n",
       "}\n",
       "\n",
       "/* Serial-specific style estimator block */\n",
       "\n",
       "#sk-container-id-1 div.sk-serial {\n",
       "  display: flex;\n",
       "  flex-direction: column;\n",
       "  align-items: center;\n",
       "  background-color: var(--sklearn-color-background);\n",
       "  padding-right: 1em;\n",
       "  padding-left: 1em;\n",
       "}\n",
       "\n",
       "\n",
       "/* Toggleable style: style used for estimator/Pipeline/ColumnTransformer box that is\n",
       "clickable and can be expanded/collapsed.\n",
       "- Pipeline and ColumnTransformer use this feature and define the default style\n",
       "- Estimators will overwrite some part of the style using the `sk-estimator` class\n",
       "*/\n",
       "\n",
       "/* Pipeline and ColumnTransformer style (default) */\n",
       "\n",
       "#sk-container-id-1 div.sk-toggleable {\n",
       "  /* Default theme specific background. It is overwritten whether we have a\n",
       "  specific estimator or a Pipeline/ColumnTransformer */\n",
       "  background-color: var(--sklearn-color-background);\n",
       "}\n",
       "\n",
       "/* Toggleable label */\n",
       "#sk-container-id-1 label.sk-toggleable__label {\n",
       "  cursor: pointer;\n",
       "  display: block;\n",
       "  width: 100%;\n",
       "  margin-bottom: 0;\n",
       "  padding: 0.5em;\n",
       "  box-sizing: border-box;\n",
       "  text-align: center;\n",
       "}\n",
       "\n",
       "#sk-container-id-1 label.sk-toggleable__label-arrow:before {\n",
       "  /* Arrow on the left of the label */\n",
       "  content: \"▸\";\n",
       "  float: left;\n",
       "  margin-right: 0.25em;\n",
       "  color: var(--sklearn-color-icon);\n",
       "}\n",
       "\n",
       "#sk-container-id-1 label.sk-toggleable__label-arrow:hover:before {\n",
       "  color: var(--sklearn-color-text);\n",
       "}\n",
       "\n",
       "/* Toggleable content - dropdown */\n",
       "\n",
       "#sk-container-id-1 div.sk-toggleable__content {\n",
       "  max-height: 0;\n",
       "  max-width: 0;\n",
       "  overflow: hidden;\n",
       "  text-align: left;\n",
       "  /* unfitted */\n",
       "  background-color: var(--sklearn-color-unfitted-level-0);\n",
       "}\n",
       "\n",
       "#sk-container-id-1 div.sk-toggleable__content.fitted {\n",
       "  /* fitted */\n",
       "  background-color: var(--sklearn-color-fitted-level-0);\n",
       "}\n",
       "\n",
       "#sk-container-id-1 div.sk-toggleable__content pre {\n",
       "  margin: 0.2em;\n",
       "  border-radius: 0.25em;\n",
       "  color: var(--sklearn-color-text);\n",
       "  /* unfitted */\n",
       "  background-color: var(--sklearn-color-unfitted-level-0);\n",
       "}\n",
       "\n",
       "#sk-container-id-1 div.sk-toggleable__content.fitted pre {\n",
       "  /* unfitted */\n",
       "  background-color: var(--sklearn-color-fitted-level-0);\n",
       "}\n",
       "\n",
       "#sk-container-id-1 input.sk-toggleable__control:checked~div.sk-toggleable__content {\n",
       "  /* Expand drop-down */\n",
       "  max-height: 200px;\n",
       "  max-width: 100%;\n",
       "  overflow: auto;\n",
       "}\n",
       "\n",
       "#sk-container-id-1 input.sk-toggleable__control:checked~label.sk-toggleable__label-arrow:before {\n",
       "  content: \"▾\";\n",
       "}\n",
       "\n",
       "/* Pipeline/ColumnTransformer-specific style */\n",
       "\n",
       "#sk-container-id-1 div.sk-label input.sk-toggleable__control:checked~label.sk-toggleable__label {\n",
       "  color: var(--sklearn-color-text);\n",
       "  background-color: var(--sklearn-color-unfitted-level-2);\n",
       "}\n",
       "\n",
       "#sk-container-id-1 div.sk-label.fitted input.sk-toggleable__control:checked~label.sk-toggleable__label {\n",
       "  background-color: var(--sklearn-color-fitted-level-2);\n",
       "}\n",
       "\n",
       "/* Estimator-specific style */\n",
       "\n",
       "/* Colorize estimator box */\n",
       "#sk-container-id-1 div.sk-estimator input.sk-toggleable__control:checked~label.sk-toggleable__label {\n",
       "  /* unfitted */\n",
       "  background-color: var(--sklearn-color-unfitted-level-2);\n",
       "}\n",
       "\n",
       "#sk-container-id-1 div.sk-estimator.fitted input.sk-toggleable__control:checked~label.sk-toggleable__label {\n",
       "  /* fitted */\n",
       "  background-color: var(--sklearn-color-fitted-level-2);\n",
       "}\n",
       "\n",
       "#sk-container-id-1 div.sk-label label.sk-toggleable__label,\n",
       "#sk-container-id-1 div.sk-label label {\n",
       "  /* The background is the default theme color */\n",
       "  color: var(--sklearn-color-text-on-default-background);\n",
       "}\n",
       "\n",
       "/* On hover, darken the color of the background */\n",
       "#sk-container-id-1 div.sk-label:hover label.sk-toggleable__label {\n",
       "  color: var(--sklearn-color-text);\n",
       "  background-color: var(--sklearn-color-unfitted-level-2);\n",
       "}\n",
       "\n",
       "/* Label box, darken color on hover, fitted */\n",
       "#sk-container-id-1 div.sk-label.fitted:hover label.sk-toggleable__label.fitted {\n",
       "  color: var(--sklearn-color-text);\n",
       "  background-color: var(--sklearn-color-fitted-level-2);\n",
       "}\n",
       "\n",
       "/* Estimator label */\n",
       "\n",
       "#sk-container-id-1 div.sk-label label {\n",
       "  font-family: monospace;\n",
       "  font-weight: bold;\n",
       "  display: inline-block;\n",
       "  line-height: 1.2em;\n",
       "}\n",
       "\n",
       "#sk-container-id-1 div.sk-label-container {\n",
       "  text-align: center;\n",
       "}\n",
       "\n",
       "/* Estimator-specific */\n",
       "#sk-container-id-1 div.sk-estimator {\n",
       "  font-family: monospace;\n",
       "  border: 1px dotted var(--sklearn-color-border-box);\n",
       "  border-radius: 0.25em;\n",
       "  box-sizing: border-box;\n",
       "  margin-bottom: 0.5em;\n",
       "  /* unfitted */\n",
       "  background-color: var(--sklearn-color-unfitted-level-0);\n",
       "}\n",
       "\n",
       "#sk-container-id-1 div.sk-estimator.fitted {\n",
       "  /* fitted */\n",
       "  background-color: var(--sklearn-color-fitted-level-0);\n",
       "}\n",
       "\n",
       "/* on hover */\n",
       "#sk-container-id-1 div.sk-estimator:hover {\n",
       "  /* unfitted */\n",
       "  background-color: var(--sklearn-color-unfitted-level-2);\n",
       "}\n",
       "\n",
       "#sk-container-id-1 div.sk-estimator.fitted:hover {\n",
       "  /* fitted */\n",
       "  background-color: var(--sklearn-color-fitted-level-2);\n",
       "}\n",
       "\n",
       "/* Specification for estimator info (e.g. \"i\" and \"?\") */\n",
       "\n",
       "/* Common style for \"i\" and \"?\" */\n",
       "\n",
       ".sk-estimator-doc-link,\n",
       "a:link.sk-estimator-doc-link,\n",
       "a:visited.sk-estimator-doc-link {\n",
       "  float: right;\n",
       "  font-size: smaller;\n",
       "  line-height: 1em;\n",
       "  font-family: monospace;\n",
       "  background-color: var(--sklearn-color-background);\n",
       "  border-radius: 1em;\n",
       "  height: 1em;\n",
       "  width: 1em;\n",
       "  text-decoration: none !important;\n",
       "  margin-left: 1ex;\n",
       "  /* unfitted */\n",
       "  border: var(--sklearn-color-unfitted-level-1) 1pt solid;\n",
       "  color: var(--sklearn-color-unfitted-level-1);\n",
       "}\n",
       "\n",
       ".sk-estimator-doc-link.fitted,\n",
       "a:link.sk-estimator-doc-link.fitted,\n",
       "a:visited.sk-estimator-doc-link.fitted {\n",
       "  /* fitted */\n",
       "  border: var(--sklearn-color-fitted-level-1) 1pt solid;\n",
       "  color: var(--sklearn-color-fitted-level-1);\n",
       "}\n",
       "\n",
       "/* On hover */\n",
       "div.sk-estimator:hover .sk-estimator-doc-link:hover,\n",
       ".sk-estimator-doc-link:hover,\n",
       "div.sk-label-container:hover .sk-estimator-doc-link:hover,\n",
       ".sk-estimator-doc-link:hover {\n",
       "  /* unfitted */\n",
       "  background-color: var(--sklearn-color-unfitted-level-3);\n",
       "  color: var(--sklearn-color-background);\n",
       "  text-decoration: none;\n",
       "}\n",
       "\n",
       "div.sk-estimator.fitted:hover .sk-estimator-doc-link.fitted:hover,\n",
       ".sk-estimator-doc-link.fitted:hover,\n",
       "div.sk-label-container:hover .sk-estimator-doc-link.fitted:hover,\n",
       ".sk-estimator-doc-link.fitted:hover {\n",
       "  /* fitted */\n",
       "  background-color: var(--sklearn-color-fitted-level-3);\n",
       "  color: var(--sklearn-color-background);\n",
       "  text-decoration: none;\n",
       "}\n",
       "\n",
       "/* Span, style for the box shown on hovering the info icon */\n",
       ".sk-estimator-doc-link span {\n",
       "  display: none;\n",
       "  z-index: 9999;\n",
       "  position: relative;\n",
       "  font-weight: normal;\n",
       "  right: .2ex;\n",
       "  padding: .5ex;\n",
       "  margin: .5ex;\n",
       "  width: min-content;\n",
       "  min-width: 20ex;\n",
       "  max-width: 50ex;\n",
       "  color: var(--sklearn-color-text);\n",
       "  box-shadow: 2pt 2pt 4pt #999;\n",
       "  /* unfitted */\n",
       "  background: var(--sklearn-color-unfitted-level-0);\n",
       "  border: .5pt solid var(--sklearn-color-unfitted-level-3);\n",
       "}\n",
       "\n",
       ".sk-estimator-doc-link.fitted span {\n",
       "  /* fitted */\n",
       "  background: var(--sklearn-color-fitted-level-0);\n",
       "  border: var(--sklearn-color-fitted-level-3);\n",
       "}\n",
       "\n",
       ".sk-estimator-doc-link:hover span {\n",
       "  display: block;\n",
       "}\n",
       "\n",
       "/* \"?\"-specific style due to the `<a>` HTML tag */\n",
       "\n",
       "#sk-container-id-1 a.estimator_doc_link {\n",
       "  float: right;\n",
       "  font-size: 1rem;\n",
       "  line-height: 1em;\n",
       "  font-family: monospace;\n",
       "  background-color: var(--sklearn-color-background);\n",
       "  border-radius: 1rem;\n",
       "  height: 1rem;\n",
       "  width: 1rem;\n",
       "  text-decoration: none;\n",
       "  /* unfitted */\n",
       "  color: var(--sklearn-color-unfitted-level-1);\n",
       "  border: var(--sklearn-color-unfitted-level-1) 1pt solid;\n",
       "}\n",
       "\n",
       "#sk-container-id-1 a.estimator_doc_link.fitted {\n",
       "  /* fitted */\n",
       "  border: var(--sklearn-color-fitted-level-1) 1pt solid;\n",
       "  color: var(--sklearn-color-fitted-level-1);\n",
       "}\n",
       "\n",
       "/* On hover */\n",
       "#sk-container-id-1 a.estimator_doc_link:hover {\n",
       "  /* unfitted */\n",
       "  background-color: var(--sklearn-color-unfitted-level-3);\n",
       "  color: var(--sklearn-color-background);\n",
       "  text-decoration: none;\n",
       "}\n",
       "\n",
       "#sk-container-id-1 a.estimator_doc_link.fitted:hover {\n",
       "  /* fitted */\n",
       "  background-color: var(--sklearn-color-fitted-level-3);\n",
       "}\n",
       "</style><div id=\"sk-container-id-1\" class=\"sk-top-container\"><div class=\"sk-text-repr-fallback\"><pre>GridSearchCV(cv=10, estimator=BernoulliNB(), n_jobs=-1,\n",
       "             param_grid={&#x27;alpha&#x27;: [0.1, 0.5, 1.0, 1.5, 2.0]})</pre><b>In a Jupyter environment, please rerun this cell to show the HTML representation or trust the notebook. <br />On GitHub, the HTML representation is unable to render, please try loading this page with nbviewer.org.</b></div><div class=\"sk-container\" hidden><div class=\"sk-item sk-dashed-wrapped\"><div class=\"sk-label-container\"><div class=\"sk-label fitted sk-toggleable\"><input class=\"sk-toggleable__control sk-hidden--visually\" id=\"sk-estimator-id-1\" type=\"checkbox\" ><label for=\"sk-estimator-id-1\" class=\"sk-toggleable__label fitted sk-toggleable__label-arrow fitted\">&nbsp;&nbsp;GridSearchCV<a class=\"sk-estimator-doc-link fitted\" rel=\"noreferrer\" target=\"_blank\" href=\"https://scikit-learn.org/1.5/modules/generated/sklearn.model_selection.GridSearchCV.html\">?<span>Documentation for GridSearchCV</span></a><span class=\"sk-estimator-doc-link fitted\">i<span>Fitted</span></span></label><div class=\"sk-toggleable__content fitted\"><pre>GridSearchCV(cv=10, estimator=BernoulliNB(), n_jobs=-1,\n",
       "             param_grid={&#x27;alpha&#x27;: [0.1, 0.5, 1.0, 1.5, 2.0]})</pre></div> </div></div><div class=\"sk-parallel\"><div class=\"sk-parallel-item\"><div class=\"sk-item\"><div class=\"sk-label-container\"><div class=\"sk-label fitted sk-toggleable\"><input class=\"sk-toggleable__control sk-hidden--visually\" id=\"sk-estimator-id-2\" type=\"checkbox\" ><label for=\"sk-estimator-id-2\" class=\"sk-toggleable__label fitted sk-toggleable__label-arrow fitted\">best_estimator_: BernoulliNB</label><div class=\"sk-toggleable__content fitted\"><pre>BernoulliNB(alpha=0.1)</pre></div> </div></div><div class=\"sk-serial\"><div class=\"sk-item\"><div class=\"sk-estimator fitted sk-toggleable\"><input class=\"sk-toggleable__control sk-hidden--visually\" id=\"sk-estimator-id-3\" type=\"checkbox\" ><label for=\"sk-estimator-id-3\" class=\"sk-toggleable__label fitted sk-toggleable__label-arrow fitted\">&nbsp;BernoulliNB<a class=\"sk-estimator-doc-link fitted\" rel=\"noreferrer\" target=\"_blank\" href=\"https://scikit-learn.org/1.5/modules/generated/sklearn.naive_bayes.BernoulliNB.html\">?<span>Documentation for BernoulliNB</span></a></label><div class=\"sk-toggleable__content fitted\"><pre>BernoulliNB(alpha=0.1)</pre></div> </div></div></div></div></div></div></div></div></div>"
      ],
      "text/plain": [
       "GridSearchCV(cv=10, estimator=BernoulliNB(), n_jobs=-1,\n",
       "             param_grid={'alpha': [0.1, 0.5, 1.0, 1.5, 2.0]})"
      ]
     },
     "execution_count": 19,
     "metadata": {},
     "output_type": "execute_result"
    }
   ],
   "source": [
    "parameters = {'alpha': [0.1, 0.5, 1.0, 1.5, 2.0]}\n",
    "model = BernoulliNB()\n",
    "clf = GridSearchCV(model, parameters,cv=10, n_jobs=-1)\n",
    "clf.fit(X_resampled, y_resampled)"
   ]
  },
  {
   "cell_type": "code",
   "execution_count": 20,
   "metadata": {},
   "outputs": [
    {
     "name": "stdout",
     "output_type": "stream",
     "text": [
      "{'alpha': 0.1}\n",
      "0.9931426332288401\n"
     ]
    }
   ],
   "source": [
    "print(clf.best_params_)\n",
    "print(clf.best_score_)"
   ]
  },
  {
   "cell_type": "markdown",
   "metadata": {},
   "source": [
    "## Test and evaluation"
   ]
  },
  {
   "cell_type": "code",
   "execution_count": 21,
   "metadata": {},
   "outputs": [
    {
     "ename": "ValueError",
     "evalue": "could not convert string to float: 'Stylect is a dynamic startup that helps helps women discover and buy shoes. We’re a small team based in London that has previously worked at Google, Techstars, Pixelmator and Rocket Internet.We place a high premium on simplicity no matter what we’re working on (i.e. design, programming, marketing). We’re also a team that ships fast. We built version 1 of our app in a week, the next release (built in a month) was featured in the Apple Appstore Italy as a best new fashion app. Fast release cycles are challenging, but also very fun - which is why we love them.\\xa0As we’ve grown, the projects that we’re working on have grown both in scale and in technical complexity. \\xa0Stylect is looking for someone who can help us improve our backend which gathers product data; analyses/categorizes it; and shows it to thousands of users daily. Each step in the process has unique challenges that demands a strong technical background.\\xa0'",
     "output_type": "error",
     "traceback": [
      "\u001b[0;31m---------------------------------------------------------------------------\u001b[0m",
      "\u001b[0;31mValueError\u001b[0m                                Traceback (most recent call last)",
      "Cell \u001b[0;32mIn[21], line 2\u001b[0m\n\u001b[1;32m      1\u001b[0m train_accuracy \u001b[38;5;241m=\u001b[39m clf\u001b[38;5;241m.\u001b[39mscore(X_resampled, y_resampled)\n\u001b[0;32m----> 2\u001b[0m test_accuracy \u001b[38;5;241m=\u001b[39m \u001b[43mclf\u001b[49m\u001b[38;5;241;43m.\u001b[39;49m\u001b[43mscore\u001b[49m\u001b[43m(\u001b[49m\u001b[43mX_test\u001b[49m\u001b[43m,\u001b[49m\u001b[43m \u001b[49m\u001b[43my_test\u001b[49m\u001b[43m)\u001b[49m\n\u001b[1;32m      3\u001b[0m \u001b[38;5;28mprint\u001b[39m(\u001b[38;5;124mf\u001b[39m\u001b[38;5;124m\"\u001b[39m\u001b[38;5;124mTraining Accuracy: \u001b[39m\u001b[38;5;132;01m{\u001b[39;00mtrain_accuracy\u001b[38;5;132;01m}\u001b[39;00m\u001b[38;5;124m\"\u001b[39m)\n\u001b[1;32m      4\u001b[0m \u001b[38;5;28mprint\u001b[39m(\u001b[38;5;124mf\u001b[39m\u001b[38;5;124m\"\u001b[39m\u001b[38;5;124mTest Accuracy: \u001b[39m\u001b[38;5;132;01m{\u001b[39;00mtest_accuracy\u001b[38;5;132;01m}\u001b[39;00m\u001b[38;5;124m\"\u001b[39m)\n",
      "File \u001b[0;32m/media/nemsys/data/projects/courses/netIT/ML_SA/CourseProjects/RealFakeJobPostingPrediction_Mitko/.venv/lib/python3.12/site-packages/sklearn/model_selection/_search.py:549\u001b[0m, in \u001b[0;36mBaseSearchCV.score\u001b[0;34m(self, X, y, **params)\u001b[0m\n\u001b[1;32m    546\u001b[0m     \u001b[38;5;28;01mreturn\u001b[39;00m scorer(\u001b[38;5;28mself\u001b[39m\u001b[38;5;241m.\u001b[39mbest_estimator_, X, y, \u001b[38;5;241m*\u001b[39m\u001b[38;5;241m*\u001b[39mscore_params)\n\u001b[1;32m    548\u001b[0m \u001b[38;5;66;03m# callable\u001b[39;00m\n\u001b[0;32m--> 549\u001b[0m score \u001b[38;5;241m=\u001b[39m \u001b[38;5;28;43mself\u001b[39;49m\u001b[38;5;241;43m.\u001b[39;49m\u001b[43mscorer_\u001b[49m\u001b[43m(\u001b[49m\u001b[38;5;28;43mself\u001b[39;49m\u001b[38;5;241;43m.\u001b[39;49m\u001b[43mbest_estimator_\u001b[49m\u001b[43m,\u001b[49m\u001b[43m \u001b[49m\u001b[43mX\u001b[49m\u001b[43m,\u001b[49m\u001b[43m \u001b[49m\u001b[43my\u001b[49m\u001b[43m,\u001b[49m\u001b[43m \u001b[49m\u001b[38;5;241;43m*\u001b[39;49m\u001b[38;5;241;43m*\u001b[39;49m\u001b[43mscore_params\u001b[49m\u001b[43m)\u001b[49m\n\u001b[1;32m    550\u001b[0m \u001b[38;5;28;01mif\u001b[39;00m \u001b[38;5;28mself\u001b[39m\u001b[38;5;241m.\u001b[39mmultimetric_:\n\u001b[1;32m    551\u001b[0m     score \u001b[38;5;241m=\u001b[39m score[\u001b[38;5;28mself\u001b[39m\u001b[38;5;241m.\u001b[39mrefit]\n",
      "File \u001b[0;32m/media/nemsys/data/projects/courses/netIT/ML_SA/CourseProjects/RealFakeJobPostingPrediction_Mitko/.venv/lib/python3.12/site-packages/sklearn/metrics/_scorer.py:455\u001b[0m, in \u001b[0;36m_PassthroughScorer.__call__\u001b[0;34m(self, estimator, *args, **kwargs)\u001b[0m\n\u001b[1;32m    453\u001b[0m \u001b[38;5;28;01mdef\u001b[39;00m \u001b[38;5;21m__call__\u001b[39m(\u001b[38;5;28mself\u001b[39m, estimator, \u001b[38;5;241m*\u001b[39margs, \u001b[38;5;241m*\u001b[39m\u001b[38;5;241m*\u001b[39mkwargs):\n\u001b[1;32m    454\u001b[0m \u001b[38;5;250m    \u001b[39m\u001b[38;5;124;03m\"\"\"Method that wraps estimator.score\"\"\"\u001b[39;00m\n\u001b[0;32m--> 455\u001b[0m     \u001b[38;5;28;01mreturn\u001b[39;00m \u001b[43mestimator\u001b[49m\u001b[38;5;241;43m.\u001b[39;49m\u001b[43mscore\u001b[49m\u001b[43m(\u001b[49m\u001b[38;5;241;43m*\u001b[39;49m\u001b[43margs\u001b[49m\u001b[43m,\u001b[49m\u001b[43m \u001b[49m\u001b[38;5;241;43m*\u001b[39;49m\u001b[38;5;241;43m*\u001b[39;49m\u001b[43mkwargs\u001b[49m\u001b[43m)\u001b[49m\n",
      "File \u001b[0;32m/media/nemsys/data/projects/courses/netIT/ML_SA/CourseProjects/RealFakeJobPostingPrediction_Mitko/.venv/lib/python3.12/site-packages/sklearn/base.py:764\u001b[0m, in \u001b[0;36mClassifierMixin.score\u001b[0;34m(self, X, y, sample_weight)\u001b[0m\n\u001b[1;32m    739\u001b[0m \u001b[38;5;250m\u001b[39m\u001b[38;5;124;03m\"\"\"\u001b[39;00m\n\u001b[1;32m    740\u001b[0m \u001b[38;5;124;03mReturn the mean accuracy on the given test data and labels.\u001b[39;00m\n\u001b[1;32m    741\u001b[0m \n\u001b[0;32m   (...)\u001b[0m\n\u001b[1;32m    760\u001b[0m \u001b[38;5;124;03m    Mean accuracy of ``self.predict(X)`` w.r.t. `y`.\u001b[39;00m\n\u001b[1;32m    761\u001b[0m \u001b[38;5;124;03m\"\"\"\u001b[39;00m\n\u001b[1;32m    762\u001b[0m \u001b[38;5;28;01mfrom\u001b[39;00m \u001b[38;5;21;01m.\u001b[39;00m\u001b[38;5;21;01mmetrics\u001b[39;00m \u001b[38;5;28;01mimport\u001b[39;00m accuracy_score\n\u001b[0;32m--> 764\u001b[0m \u001b[38;5;28;01mreturn\u001b[39;00m accuracy_score(y, \u001b[38;5;28;43mself\u001b[39;49m\u001b[38;5;241;43m.\u001b[39;49m\u001b[43mpredict\u001b[49m\u001b[43m(\u001b[49m\u001b[43mX\u001b[49m\u001b[43m)\u001b[49m, sample_weight\u001b[38;5;241m=\u001b[39msample_weight)\n",
      "File \u001b[0;32m/media/nemsys/data/projects/courses/netIT/ML_SA/CourseProjects/RealFakeJobPostingPrediction_Mitko/.venv/lib/python3.12/site-packages/sklearn/naive_bayes.py:101\u001b[0m, in \u001b[0;36m_BaseNB.predict\u001b[0;34m(self, X)\u001b[0m\n\u001b[1;32m     87\u001b[0m \u001b[38;5;250m\u001b[39m\u001b[38;5;124;03m\"\"\"\u001b[39;00m\n\u001b[1;32m     88\u001b[0m \u001b[38;5;124;03mPerform classification on an array of test vectors X.\u001b[39;00m\n\u001b[1;32m     89\u001b[0m \n\u001b[0;32m   (...)\u001b[0m\n\u001b[1;32m     98\u001b[0m \u001b[38;5;124;03m    Predicted target values for X.\u001b[39;00m\n\u001b[1;32m     99\u001b[0m \u001b[38;5;124;03m\"\"\"\u001b[39;00m\n\u001b[1;32m    100\u001b[0m check_is_fitted(\u001b[38;5;28mself\u001b[39m)\n\u001b[0;32m--> 101\u001b[0m X \u001b[38;5;241m=\u001b[39m \u001b[38;5;28;43mself\u001b[39;49m\u001b[38;5;241;43m.\u001b[39;49m\u001b[43m_check_X\u001b[49m\u001b[43m(\u001b[49m\u001b[43mX\u001b[49m\u001b[43m)\u001b[49m\n\u001b[1;32m    102\u001b[0m jll \u001b[38;5;241m=\u001b[39m \u001b[38;5;28mself\u001b[39m\u001b[38;5;241m.\u001b[39m_joint_log_likelihood(X)\n\u001b[1;32m    103\u001b[0m \u001b[38;5;28;01mreturn\u001b[39;00m \u001b[38;5;28mself\u001b[39m\u001b[38;5;241m.\u001b[39mclasses_[np\u001b[38;5;241m.\u001b[39margmax(jll, axis\u001b[38;5;241m=\u001b[39m\u001b[38;5;241m1\u001b[39m)]\n",
      "File \u001b[0;32m/media/nemsys/data/projects/courses/netIT/ML_SA/CourseProjects/RealFakeJobPostingPrediction_Mitko/.venv/lib/python3.12/site-packages/sklearn/naive_bayes.py:1178\u001b[0m, in \u001b[0;36mBernoulliNB._check_X\u001b[0;34m(self, X)\u001b[0m\n\u001b[1;32m   1176\u001b[0m \u001b[38;5;28;01mdef\u001b[39;00m \u001b[38;5;21m_check_X\u001b[39m(\u001b[38;5;28mself\u001b[39m, X):\n\u001b[1;32m   1177\u001b[0m \u001b[38;5;250m    \u001b[39m\u001b[38;5;124;03m\"\"\"Validate X, used only in predict* methods.\"\"\"\u001b[39;00m\n\u001b[0;32m-> 1178\u001b[0m     X \u001b[38;5;241m=\u001b[39m \u001b[38;5;28;43msuper\u001b[39;49m\u001b[43m(\u001b[49m\u001b[43m)\u001b[49m\u001b[38;5;241;43m.\u001b[39;49m\u001b[43m_check_X\u001b[49m\u001b[43m(\u001b[49m\u001b[43mX\u001b[49m\u001b[43m)\u001b[49m\n\u001b[1;32m   1179\u001b[0m     \u001b[38;5;28;01mif\u001b[39;00m \u001b[38;5;28mself\u001b[39m\u001b[38;5;241m.\u001b[39mbinarize \u001b[38;5;129;01mis\u001b[39;00m \u001b[38;5;129;01mnot\u001b[39;00m \u001b[38;5;28;01mNone\u001b[39;00m:\n\u001b[1;32m   1180\u001b[0m         X \u001b[38;5;241m=\u001b[39m binarize(X, threshold\u001b[38;5;241m=\u001b[39m\u001b[38;5;28mself\u001b[39m\u001b[38;5;241m.\u001b[39mbinarize)\n",
      "File \u001b[0;32m/media/nemsys/data/projects/courses/netIT/ML_SA/CourseProjects/RealFakeJobPostingPrediction_Mitko/.venv/lib/python3.12/site-packages/sklearn/naive_bayes.py:574\u001b[0m, in \u001b[0;36m_BaseDiscreteNB._check_X\u001b[0;34m(self, X)\u001b[0m\n\u001b[1;32m    572\u001b[0m \u001b[38;5;28;01mdef\u001b[39;00m \u001b[38;5;21m_check_X\u001b[39m(\u001b[38;5;28mself\u001b[39m, X):\n\u001b[1;32m    573\u001b[0m \u001b[38;5;250m    \u001b[39m\u001b[38;5;124;03m\"\"\"Validate X, used only in predict* methods.\"\"\"\u001b[39;00m\n\u001b[0;32m--> 574\u001b[0m     \u001b[38;5;28;01mreturn\u001b[39;00m \u001b[38;5;28;43mself\u001b[39;49m\u001b[38;5;241;43m.\u001b[39;49m\u001b[43m_validate_data\u001b[49m\u001b[43m(\u001b[49m\u001b[43mX\u001b[49m\u001b[43m,\u001b[49m\u001b[43m \u001b[49m\u001b[43maccept_sparse\u001b[49m\u001b[38;5;241;43m=\u001b[39;49m\u001b[38;5;124;43m\"\u001b[39;49m\u001b[38;5;124;43mcsr\u001b[39;49m\u001b[38;5;124;43m\"\u001b[39;49m\u001b[43m,\u001b[49m\u001b[43m \u001b[49m\u001b[43mreset\u001b[49m\u001b[38;5;241;43m=\u001b[39;49m\u001b[38;5;28;43;01mFalse\u001b[39;49;00m\u001b[43m)\u001b[49m\n",
      "File \u001b[0;32m/media/nemsys/data/projects/courses/netIT/ML_SA/CourseProjects/RealFakeJobPostingPrediction_Mitko/.venv/lib/python3.12/site-packages/sklearn/base.py:633\u001b[0m, in \u001b[0;36mBaseEstimator._validate_data\u001b[0;34m(self, X, y, reset, validate_separately, cast_to_ndarray, **check_params)\u001b[0m\n\u001b[1;32m    631\u001b[0m         out \u001b[38;5;241m=\u001b[39m X, y\n\u001b[1;32m    632\u001b[0m \u001b[38;5;28;01melif\u001b[39;00m \u001b[38;5;129;01mnot\u001b[39;00m no_val_X \u001b[38;5;129;01mand\u001b[39;00m no_val_y:\n\u001b[0;32m--> 633\u001b[0m     out \u001b[38;5;241m=\u001b[39m \u001b[43mcheck_array\u001b[49m\u001b[43m(\u001b[49m\u001b[43mX\u001b[49m\u001b[43m,\u001b[49m\u001b[43m \u001b[49m\u001b[43minput_name\u001b[49m\u001b[38;5;241;43m=\u001b[39;49m\u001b[38;5;124;43m\"\u001b[39;49m\u001b[38;5;124;43mX\u001b[39;49m\u001b[38;5;124;43m\"\u001b[39;49m\u001b[43m,\u001b[49m\u001b[43m \u001b[49m\u001b[38;5;241;43m*\u001b[39;49m\u001b[38;5;241;43m*\u001b[39;49m\u001b[43mcheck_params\u001b[49m\u001b[43m)\u001b[49m\n\u001b[1;32m    634\u001b[0m \u001b[38;5;28;01melif\u001b[39;00m no_val_X \u001b[38;5;129;01mand\u001b[39;00m \u001b[38;5;129;01mnot\u001b[39;00m no_val_y:\n\u001b[1;32m    635\u001b[0m     out \u001b[38;5;241m=\u001b[39m _check_y(y, \u001b[38;5;241m*\u001b[39m\u001b[38;5;241m*\u001b[39mcheck_params)\n",
      "File \u001b[0;32m/media/nemsys/data/projects/courses/netIT/ML_SA/CourseProjects/RealFakeJobPostingPrediction_Mitko/.venv/lib/python3.12/site-packages/sklearn/utils/validation.py:1012\u001b[0m, in \u001b[0;36mcheck_array\u001b[0;34m(array, accept_sparse, accept_large_sparse, dtype, order, copy, force_writeable, force_all_finite, ensure_2d, allow_nd, ensure_min_samples, ensure_min_features, estimator, input_name)\u001b[0m\n\u001b[1;32m   1010\u001b[0m         array \u001b[38;5;241m=\u001b[39m xp\u001b[38;5;241m.\u001b[39mastype(array, dtype, copy\u001b[38;5;241m=\u001b[39m\u001b[38;5;28;01mFalse\u001b[39;00m)\n\u001b[1;32m   1011\u001b[0m     \u001b[38;5;28;01melse\u001b[39;00m:\n\u001b[0;32m-> 1012\u001b[0m         array \u001b[38;5;241m=\u001b[39m \u001b[43m_asarray_with_order\u001b[49m\u001b[43m(\u001b[49m\u001b[43marray\u001b[49m\u001b[43m,\u001b[49m\u001b[43m \u001b[49m\u001b[43morder\u001b[49m\u001b[38;5;241;43m=\u001b[39;49m\u001b[43morder\u001b[49m\u001b[43m,\u001b[49m\u001b[43m \u001b[49m\u001b[43mdtype\u001b[49m\u001b[38;5;241;43m=\u001b[39;49m\u001b[43mdtype\u001b[49m\u001b[43m,\u001b[49m\u001b[43m \u001b[49m\u001b[43mxp\u001b[49m\u001b[38;5;241;43m=\u001b[39;49m\u001b[43mxp\u001b[49m\u001b[43m)\u001b[49m\n\u001b[1;32m   1013\u001b[0m \u001b[38;5;28;01mexcept\u001b[39;00m ComplexWarning \u001b[38;5;28;01mas\u001b[39;00m complex_warning:\n\u001b[1;32m   1014\u001b[0m     \u001b[38;5;28;01mraise\u001b[39;00m \u001b[38;5;167;01mValueError\u001b[39;00m(\n\u001b[1;32m   1015\u001b[0m         \u001b[38;5;124m\"\u001b[39m\u001b[38;5;124mComplex data not supported\u001b[39m\u001b[38;5;130;01m\\n\u001b[39;00m\u001b[38;5;132;01m{}\u001b[39;00m\u001b[38;5;130;01m\\n\u001b[39;00m\u001b[38;5;124m\"\u001b[39m\u001b[38;5;241m.\u001b[39mformat(array)\n\u001b[1;32m   1016\u001b[0m     ) \u001b[38;5;28;01mfrom\u001b[39;00m \u001b[38;5;21;01mcomplex_warning\u001b[39;00m\n",
      "File \u001b[0;32m/media/nemsys/data/projects/courses/netIT/ML_SA/CourseProjects/RealFakeJobPostingPrediction_Mitko/.venv/lib/python3.12/site-packages/sklearn/utils/_array_api.py:745\u001b[0m, in \u001b[0;36m_asarray_with_order\u001b[0;34m(array, dtype, order, copy, xp, device)\u001b[0m\n\u001b[1;32m    743\u001b[0m     array \u001b[38;5;241m=\u001b[39m numpy\u001b[38;5;241m.\u001b[39marray(array, order\u001b[38;5;241m=\u001b[39morder, dtype\u001b[38;5;241m=\u001b[39mdtype)\n\u001b[1;32m    744\u001b[0m \u001b[38;5;28;01melse\u001b[39;00m:\n\u001b[0;32m--> 745\u001b[0m     array \u001b[38;5;241m=\u001b[39m \u001b[43mnumpy\u001b[49m\u001b[38;5;241;43m.\u001b[39;49m\u001b[43masarray\u001b[49m\u001b[43m(\u001b[49m\u001b[43marray\u001b[49m\u001b[43m,\u001b[49m\u001b[43m \u001b[49m\u001b[43morder\u001b[49m\u001b[38;5;241;43m=\u001b[39;49m\u001b[43morder\u001b[49m\u001b[43m,\u001b[49m\u001b[43m \u001b[49m\u001b[43mdtype\u001b[49m\u001b[38;5;241;43m=\u001b[39;49m\u001b[43mdtype\u001b[49m\u001b[43m)\u001b[49m\n\u001b[1;32m    747\u001b[0m \u001b[38;5;66;03m# At this point array is a NumPy ndarray. We convert it to an array\u001b[39;00m\n\u001b[1;32m    748\u001b[0m \u001b[38;5;66;03m# container that is consistent with the input's namespace.\u001b[39;00m\n\u001b[1;32m    749\u001b[0m \u001b[38;5;28;01mreturn\u001b[39;00m xp\u001b[38;5;241m.\u001b[39masarray(array)\n",
      "File \u001b[0;32m/media/nemsys/data/projects/courses/netIT/ML_SA/CourseProjects/RealFakeJobPostingPrediction_Mitko/.venv/lib/python3.12/site-packages/pandas/core/series.py:1031\u001b[0m, in \u001b[0;36mSeries.__array__\u001b[0;34m(self, dtype, copy)\u001b[0m\n\u001b[1;32m    981\u001b[0m \u001b[38;5;250m\u001b[39m\u001b[38;5;124;03m\"\"\"\u001b[39;00m\n\u001b[1;32m    982\u001b[0m \u001b[38;5;124;03mReturn the values as a NumPy array.\u001b[39;00m\n\u001b[1;32m    983\u001b[0m \n\u001b[0;32m   (...)\u001b[0m\n\u001b[1;32m   1028\u001b[0m \u001b[38;5;124;03m      dtype='datetime64[ns]')\u001b[39;00m\n\u001b[1;32m   1029\u001b[0m \u001b[38;5;124;03m\"\"\"\u001b[39;00m\n\u001b[1;32m   1030\u001b[0m values \u001b[38;5;241m=\u001b[39m \u001b[38;5;28mself\u001b[39m\u001b[38;5;241m.\u001b[39m_values\n\u001b[0;32m-> 1031\u001b[0m arr \u001b[38;5;241m=\u001b[39m \u001b[43mnp\u001b[49m\u001b[38;5;241;43m.\u001b[39;49m\u001b[43masarray\u001b[49m\u001b[43m(\u001b[49m\u001b[43mvalues\u001b[49m\u001b[43m,\u001b[49m\u001b[43m \u001b[49m\u001b[43mdtype\u001b[49m\u001b[38;5;241;43m=\u001b[39;49m\u001b[43mdtype\u001b[49m\u001b[43m)\u001b[49m\n\u001b[1;32m   1032\u001b[0m \u001b[38;5;28;01mif\u001b[39;00m using_copy_on_write() \u001b[38;5;129;01mand\u001b[39;00m astype_is_view(values\u001b[38;5;241m.\u001b[39mdtype, arr\u001b[38;5;241m.\u001b[39mdtype):\n\u001b[1;32m   1033\u001b[0m     arr \u001b[38;5;241m=\u001b[39m arr\u001b[38;5;241m.\u001b[39mview()\n",
      "\u001b[0;31mValueError\u001b[0m: could not convert string to float: 'Stylect is a dynamic startup that helps helps women discover and buy shoes. We’re a small team based in London that has previously worked at Google, Techstars, Pixelmator and Rocket Internet.We place a high premium on simplicity no matter what we’re working on (i.e. design, programming, marketing). We’re also a team that ships fast. We built version 1 of our app in a week, the next release (built in a month) was featured in the Apple Appstore Italy as a best new fashion app. Fast release cycles are challenging, but also very fun - which is why we love them.\\xa0As we’ve grown, the projects that we’re working on have grown both in scale and in technical complexity. \\xa0Stylect is looking for someone who can help us improve our backend which gathers product data; analyses/categorizes it; and shows it to thousands of users daily. Each step in the process has unique challenges that demands a strong technical background.\\xa0'"
     ]
    }
   ],
   "source": [
    "train_accuracy = clf.score(X_resampled, y_resampled)\n",
    "test_accuracy = clf.score(X_test, y_test)\n",
    "print(f\"Training Accuracy: {train_accuracy}\")\n",
    "print(f\"Test Accuracy: {test_accuracy}\")"
   ]
  },
  {
   "cell_type": "code",
   "execution_count": 19,
   "metadata": {},
   "outputs": [],
   "source": [
    "# Make predictions on the test set\n",
    "y_pred = clf.predict(X_test)"
   ]
  },
  {
   "cell_type": "code",
   "execution_count": 20,
   "metadata": {},
   "outputs": [
    {
     "name": "stdout",
     "output_type": "stream",
     "text": [
      "Accuracy: 0.98\n",
      "Classification Report:\n",
      "              precision    recall  f1-score   support\n",
      "\n",
      "           0       0.99      0.99      0.99      4254\n",
      "           1       0.77      0.71      0.74       216\n",
      "\n",
      "    accuracy                           0.98      4470\n",
      "   macro avg       0.88      0.85      0.86      4470\n",
      "weighted avg       0.97      0.98      0.98      4470\n",
      "\n"
     ]
    }
   ],
   "source": [
    "# Evaluate the model\n",
    "accuracy = accuracy_score(y_test, y_pred)       # Calculate the accuracy\n",
    "report = classification_report(y_test, y_pred)  # Get the precision, recall, f1-score\n",
    "\n",
    "print(f'Accuracy: {accuracy:.2f}')\n",
    "print('Classification Report:')\n",
    "print(report)"
   ]
  },
  {
   "cell_type": "code",
   "execution_count": 21,
   "metadata": {},
   "outputs": [
    {
     "name": "stdout",
     "output_type": "stream",
     "text": [
      "[[4209   45]\n",
      " [  63  153]]\n"
     ]
    }
   ],
   "source": [
    "# Display the confusion matrix\n",
    "conf_matrix = confusion_matrix(y_test, y_pred, labels=[0, 1])\n",
    "print(conf_matrix)"
   ]
  },
  {
   "cell_type": "code",
   "execution_count": 22,
   "metadata": {},
   "outputs": [
    {
     "data": {
      "image/png": "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